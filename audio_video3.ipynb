{
  "nbformat": 4,
  "nbformat_minor": 0,
  "metadata": {
    "colab": {
      "name": "audio-video3.ipynb",
      "provenance": [],
      "collapsed_sections": []
    },
    "kernelspec": {
      "name": "python3",
      "display_name": "Python 3"
    },
    "language_info": {
      "name": "python"
    },
    "accelerator": "GPU",
    "widgets": {
      "application/vnd.jupyter.widget-state+json": {
        "05671a652a6d4fa196dba7d94e0b88bf": {
          "model_module": "@jupyter-widgets/controls",
          "model_name": "HBoxModel",
          "model_module_version": "1.5.0",
          "state": {
            "_view_name": "HBoxView",
            "_dom_classes": [],
            "_model_name": "HBoxModel",
            "_view_module": "@jupyter-widgets/controls",
            "_model_module_version": "1.5.0",
            "_view_count": null,
            "_view_module_version": "1.5.0",
            "box_style": "",
            "layout": "IPY_MODEL_b2300fef00c4410eaa837824809cfa16",
            "_model_module": "@jupyter-widgets/controls",
            "children": [
              "IPY_MODEL_23a68131bfb149d88216f21701e77b75",
              "IPY_MODEL_2451d5f04fda4c7b9b74b18f781e453b",
              "IPY_MODEL_e88eec5558d44599a2725d42426e7565"
            ]
          }
        },
        "b2300fef00c4410eaa837824809cfa16": {
          "model_module": "@jupyter-widgets/base",
          "model_name": "LayoutModel",
          "model_module_version": "1.2.0",
          "state": {
            "_view_name": "LayoutView",
            "grid_template_rows": null,
            "right": null,
            "justify_content": null,
            "_view_module": "@jupyter-widgets/base",
            "overflow": null,
            "_model_module_version": "1.2.0",
            "_view_count": null,
            "flex_flow": null,
            "width": null,
            "min_width": null,
            "border": null,
            "align_items": null,
            "bottom": null,
            "_model_module": "@jupyter-widgets/base",
            "top": null,
            "grid_column": null,
            "overflow_y": null,
            "overflow_x": null,
            "grid_auto_flow": null,
            "grid_area": null,
            "grid_template_columns": null,
            "flex": null,
            "_model_name": "LayoutModel",
            "justify_items": null,
            "grid_row": null,
            "max_height": null,
            "align_content": null,
            "visibility": null,
            "align_self": null,
            "height": null,
            "min_height": null,
            "padding": null,
            "grid_auto_rows": null,
            "grid_gap": null,
            "max_width": null,
            "order": null,
            "_view_module_version": "1.2.0",
            "grid_template_areas": null,
            "object_position": null,
            "object_fit": null,
            "grid_auto_columns": null,
            "margin": null,
            "display": null,
            "left": null
          }
        },
        "23a68131bfb149d88216f21701e77b75": {
          "model_module": "@jupyter-widgets/controls",
          "model_name": "HTMLModel",
          "model_module_version": "1.5.0",
          "state": {
            "_view_name": "HTMLView",
            "style": "IPY_MODEL_44c8a997c9f542ed920d9f9ac773090a",
            "_dom_classes": [],
            "description": "",
            "_model_name": "HTMLModel",
            "placeholder": "​",
            "_view_module": "@jupyter-widgets/controls",
            "_model_module_version": "1.5.0",
            "value": "100%",
            "_view_count": null,
            "_view_module_version": "1.5.0",
            "description_tooltip": null,
            "_model_module": "@jupyter-widgets/controls",
            "layout": "IPY_MODEL_0b3117ef4fa641389a62e65ad636e98f"
          }
        },
        "2451d5f04fda4c7b9b74b18f781e453b": {
          "model_module": "@jupyter-widgets/controls",
          "model_name": "FloatProgressModel",
          "model_module_version": "1.5.0",
          "state": {
            "_view_name": "ProgressView",
            "style": "IPY_MODEL_eb1618e30f6a4c0e950d578fda125ea8",
            "_dom_classes": [],
            "description": "",
            "_model_name": "FloatProgressModel",
            "bar_style": "success",
            "max": 89843225,
            "_view_module": "@jupyter-widgets/controls",
            "_model_module_version": "1.5.0",
            "value": 89843225,
            "_view_count": null,
            "_view_module_version": "1.5.0",
            "orientation": "horizontal",
            "min": 0,
            "description_tooltip": null,
            "_model_module": "@jupyter-widgets/controls",
            "layout": "IPY_MODEL_d8f2f1c927224c1a8e211eae697ec42a"
          }
        },
        "e88eec5558d44599a2725d42426e7565": {
          "model_module": "@jupyter-widgets/controls",
          "model_name": "HTMLModel",
          "model_module_version": "1.5.0",
          "state": {
            "_view_name": "HTMLView",
            "style": "IPY_MODEL_c76a9f1f7cb94cef90731241b68b81b9",
            "_dom_classes": [],
            "description": "",
            "_model_name": "HTMLModel",
            "placeholder": "​",
            "_view_module": "@jupyter-widgets/controls",
            "_model_module_version": "1.5.0",
            "value": " 85.7M/85.7M [00:10&lt;00:00, 9.89MB/s]",
            "_view_count": null,
            "_view_module_version": "1.5.0",
            "description_tooltip": null,
            "_model_module": "@jupyter-widgets/controls",
            "layout": "IPY_MODEL_b29d01a5f3fd4ca1beecba2e5d2c66b1"
          }
        },
        "44c8a997c9f542ed920d9f9ac773090a": {
          "model_module": "@jupyter-widgets/controls",
          "model_name": "DescriptionStyleModel",
          "model_module_version": "1.5.0",
          "state": {
            "_view_name": "StyleView",
            "_model_name": "DescriptionStyleModel",
            "description_width": "",
            "_view_module": "@jupyter-widgets/base",
            "_model_module_version": "1.5.0",
            "_view_count": null,
            "_view_module_version": "1.2.0",
            "_model_module": "@jupyter-widgets/controls"
          }
        },
        "0b3117ef4fa641389a62e65ad636e98f": {
          "model_module": "@jupyter-widgets/base",
          "model_name": "LayoutModel",
          "model_module_version": "1.2.0",
          "state": {
            "_view_name": "LayoutView",
            "grid_template_rows": null,
            "right": null,
            "justify_content": null,
            "_view_module": "@jupyter-widgets/base",
            "overflow": null,
            "_model_module_version": "1.2.0",
            "_view_count": null,
            "flex_flow": null,
            "width": null,
            "min_width": null,
            "border": null,
            "align_items": null,
            "bottom": null,
            "_model_module": "@jupyter-widgets/base",
            "top": null,
            "grid_column": null,
            "overflow_y": null,
            "overflow_x": null,
            "grid_auto_flow": null,
            "grid_area": null,
            "grid_template_columns": null,
            "flex": null,
            "_model_name": "LayoutModel",
            "justify_items": null,
            "grid_row": null,
            "max_height": null,
            "align_content": null,
            "visibility": null,
            "align_self": null,
            "height": null,
            "min_height": null,
            "padding": null,
            "grid_auto_rows": null,
            "grid_gap": null,
            "max_width": null,
            "order": null,
            "_view_module_version": "1.2.0",
            "grid_template_areas": null,
            "object_position": null,
            "object_fit": null,
            "grid_auto_columns": null,
            "margin": null,
            "display": null,
            "left": null
          }
        },
        "eb1618e30f6a4c0e950d578fda125ea8": {
          "model_module": "@jupyter-widgets/controls",
          "model_name": "ProgressStyleModel",
          "model_module_version": "1.5.0",
          "state": {
            "_view_name": "StyleView",
            "_model_name": "ProgressStyleModel",
            "description_width": "",
            "_view_module": "@jupyter-widgets/base",
            "_model_module_version": "1.5.0",
            "_view_count": null,
            "_view_module_version": "1.2.0",
            "bar_color": null,
            "_model_module": "@jupyter-widgets/controls"
          }
        },
        "d8f2f1c927224c1a8e211eae697ec42a": {
          "model_module": "@jupyter-widgets/base",
          "model_name": "LayoutModel",
          "model_module_version": "1.2.0",
          "state": {
            "_view_name": "LayoutView",
            "grid_template_rows": null,
            "right": null,
            "justify_content": null,
            "_view_module": "@jupyter-widgets/base",
            "overflow": null,
            "_model_module_version": "1.2.0",
            "_view_count": null,
            "flex_flow": null,
            "width": null,
            "min_width": null,
            "border": null,
            "align_items": null,
            "bottom": null,
            "_model_module": "@jupyter-widgets/base",
            "top": null,
            "grid_column": null,
            "overflow_y": null,
            "overflow_x": null,
            "grid_auto_flow": null,
            "grid_area": null,
            "grid_template_columns": null,
            "flex": null,
            "_model_name": "LayoutModel",
            "justify_items": null,
            "grid_row": null,
            "max_height": null,
            "align_content": null,
            "visibility": null,
            "align_self": null,
            "height": null,
            "min_height": null,
            "padding": null,
            "grid_auto_rows": null,
            "grid_gap": null,
            "max_width": null,
            "order": null,
            "_view_module_version": "1.2.0",
            "grid_template_areas": null,
            "object_position": null,
            "object_fit": null,
            "grid_auto_columns": null,
            "margin": null,
            "display": null,
            "left": null
          }
        },
        "c76a9f1f7cb94cef90731241b68b81b9": {
          "model_module": "@jupyter-widgets/controls",
          "model_name": "DescriptionStyleModel",
          "model_module_version": "1.5.0",
          "state": {
            "_view_name": "StyleView",
            "_model_name": "DescriptionStyleModel",
            "description_width": "",
            "_view_module": "@jupyter-widgets/base",
            "_model_module_version": "1.5.0",
            "_view_count": null,
            "_view_module_version": "1.2.0",
            "_model_module": "@jupyter-widgets/controls"
          }
        },
        "b29d01a5f3fd4ca1beecba2e5d2c66b1": {
          "model_module": "@jupyter-widgets/base",
          "model_name": "LayoutModel",
          "model_module_version": "1.2.0",
          "state": {
            "_view_name": "LayoutView",
            "grid_template_rows": null,
            "right": null,
            "justify_content": null,
            "_view_module": "@jupyter-widgets/base",
            "overflow": null,
            "_model_module_version": "1.2.0",
            "_view_count": null,
            "flex_flow": null,
            "width": null,
            "min_width": null,
            "border": null,
            "align_items": null,
            "bottom": null,
            "_model_module": "@jupyter-widgets/base",
            "top": null,
            "grid_column": null,
            "overflow_y": null,
            "overflow_x": null,
            "grid_auto_flow": null,
            "grid_area": null,
            "grid_template_columns": null,
            "flex": null,
            "_model_name": "LayoutModel",
            "justify_items": null,
            "grid_row": null,
            "max_height": null,
            "align_content": null,
            "visibility": null,
            "align_self": null,
            "height": null,
            "min_height": null,
            "padding": null,
            "grid_auto_rows": null,
            "grid_gap": null,
            "max_width": null,
            "order": null,
            "_view_module_version": "1.2.0",
            "grid_template_areas": null,
            "object_position": null,
            "object_fit": null,
            "grid_auto_columns": null,
            "margin": null,
            "display": null,
            "left": null
          }
        },
        "f36ef6378d17414ba473309c70ccbb02": {
          "model_module": "@jupyter-widgets/controls",
          "model_name": "HBoxModel",
          "model_module_version": "1.5.0",
          "state": {
            "_view_name": "HBoxView",
            "_dom_classes": [],
            "_model_name": "HBoxModel",
            "_view_module": "@jupyter-widgets/controls",
            "_model_module_version": "1.5.0",
            "_view_count": null,
            "_view_module_version": "1.5.0",
            "box_style": "",
            "layout": "IPY_MODEL_e05fee0257264df9b1eddf3e57ddddf1",
            "_model_module": "@jupyter-widgets/controls",
            "children": [
              "IPY_MODEL_4b13d81362fb43e8aae0b4ba018c2a2c",
              "IPY_MODEL_14884e87ddc344ae94e3c9e6b0679142",
              "IPY_MODEL_967895d592664441b4e66d805678c8c7"
            ]
          }
        },
        "e05fee0257264df9b1eddf3e57ddddf1": {
          "model_module": "@jupyter-widgets/base",
          "model_name": "LayoutModel",
          "model_module_version": "1.2.0",
          "state": {
            "_view_name": "LayoutView",
            "grid_template_rows": null,
            "right": null,
            "justify_content": null,
            "_view_module": "@jupyter-widgets/base",
            "overflow": null,
            "_model_module_version": "1.2.0",
            "_view_count": null,
            "flex_flow": null,
            "width": null,
            "min_width": null,
            "border": null,
            "align_items": null,
            "bottom": null,
            "_model_module": "@jupyter-widgets/base",
            "top": null,
            "grid_column": null,
            "overflow_y": null,
            "overflow_x": null,
            "grid_auto_flow": null,
            "grid_area": null,
            "grid_template_columns": null,
            "flex": null,
            "_model_name": "LayoutModel",
            "justify_items": null,
            "grid_row": null,
            "max_height": null,
            "align_content": null,
            "visibility": null,
            "align_self": null,
            "height": null,
            "min_height": null,
            "padding": null,
            "grid_auto_rows": null,
            "grid_gap": null,
            "max_width": null,
            "order": null,
            "_view_module_version": "1.2.0",
            "grid_template_areas": null,
            "object_position": null,
            "object_fit": null,
            "grid_auto_columns": null,
            "margin": null,
            "display": null,
            "left": null
          }
        },
        "4b13d81362fb43e8aae0b4ba018c2a2c": {
          "model_module": "@jupyter-widgets/controls",
          "model_name": "HTMLModel",
          "model_module_version": "1.5.0",
          "state": {
            "_view_name": "HTMLView",
            "style": "IPY_MODEL_5700c71949a1492a9e5c9abfc91e53be",
            "_dom_classes": [],
            "description": "",
            "_model_name": "HTMLModel",
            "placeholder": "​",
            "_view_module": "@jupyter-widgets/controls",
            "_model_module_version": "1.5.0",
            "value": "100%",
            "_view_count": null,
            "_view_module_version": "1.5.0",
            "description_tooltip": null,
            "_model_module": "@jupyter-widgets/controls",
            "layout": "IPY_MODEL_2542ac39a4d14cf5b690e6702ae3e62a"
          }
        },
        "14884e87ddc344ae94e3c9e6b0679142": {
          "model_module": "@jupyter-widgets/controls",
          "model_name": "FloatProgressModel",
          "model_module_version": "1.5.0",
          "state": {
            "_view_name": "ProgressView",
            "style": "IPY_MODEL_78ab8953b68a4ecd816b73aa29f372e8",
            "_dom_classes": [],
            "description": "",
            "_model_name": "FloatProgressModel",
            "bar_style": "success",
            "max": 96316515,
            "_view_module": "@jupyter-widgets/controls",
            "_model_module_version": "1.5.0",
            "value": 96316515,
            "_view_count": null,
            "_view_module_version": "1.5.0",
            "orientation": "horizontal",
            "min": 0,
            "description_tooltip": null,
            "_model_module": "@jupyter-widgets/controls",
            "layout": "IPY_MODEL_37b19d9882d846f1a3483d9850cf6e3f"
          }
        },
        "967895d592664441b4e66d805678c8c7": {
          "model_module": "@jupyter-widgets/controls",
          "model_name": "HTMLModel",
          "model_module_version": "1.5.0",
          "state": {
            "_view_name": "HTMLView",
            "style": "IPY_MODEL_3f7c2bd547d74640aa7ec8d31cf5497b",
            "_dom_classes": [],
            "description": "",
            "_model_name": "HTMLModel",
            "placeholder": "​",
            "_view_module": "@jupyter-widgets/controls",
            "_model_module_version": "1.5.0",
            "value": " 91.9M/91.9M [00:10&lt;00:00, 10.7MB/s]",
            "_view_count": null,
            "_view_module_version": "1.5.0",
            "description_tooltip": null,
            "_model_module": "@jupyter-widgets/controls",
            "layout": "IPY_MODEL_3c08ef1ceada433faa52bfd90fe73a7e"
          }
        },
        "5700c71949a1492a9e5c9abfc91e53be": {
          "model_module": "@jupyter-widgets/controls",
          "model_name": "DescriptionStyleModel",
          "model_module_version": "1.5.0",
          "state": {
            "_view_name": "StyleView",
            "_model_name": "DescriptionStyleModel",
            "description_width": "",
            "_view_module": "@jupyter-widgets/base",
            "_model_module_version": "1.5.0",
            "_view_count": null,
            "_view_module_version": "1.2.0",
            "_model_module": "@jupyter-widgets/controls"
          }
        },
        "2542ac39a4d14cf5b690e6702ae3e62a": {
          "model_module": "@jupyter-widgets/base",
          "model_name": "LayoutModel",
          "model_module_version": "1.2.0",
          "state": {
            "_view_name": "LayoutView",
            "grid_template_rows": null,
            "right": null,
            "justify_content": null,
            "_view_module": "@jupyter-widgets/base",
            "overflow": null,
            "_model_module_version": "1.2.0",
            "_view_count": null,
            "flex_flow": null,
            "width": null,
            "min_width": null,
            "border": null,
            "align_items": null,
            "bottom": null,
            "_model_module": "@jupyter-widgets/base",
            "top": null,
            "grid_column": null,
            "overflow_y": null,
            "overflow_x": null,
            "grid_auto_flow": null,
            "grid_area": null,
            "grid_template_columns": null,
            "flex": null,
            "_model_name": "LayoutModel",
            "justify_items": null,
            "grid_row": null,
            "max_height": null,
            "align_content": null,
            "visibility": null,
            "align_self": null,
            "height": null,
            "min_height": null,
            "padding": null,
            "grid_auto_rows": null,
            "grid_gap": null,
            "max_width": null,
            "order": null,
            "_view_module_version": "1.2.0",
            "grid_template_areas": null,
            "object_position": null,
            "object_fit": null,
            "grid_auto_columns": null,
            "margin": null,
            "display": null,
            "left": null
          }
        },
        "78ab8953b68a4ecd816b73aa29f372e8": {
          "model_module": "@jupyter-widgets/controls",
          "model_name": "ProgressStyleModel",
          "model_module_version": "1.5.0",
          "state": {
            "_view_name": "StyleView",
            "_model_name": "ProgressStyleModel",
            "description_width": "",
            "_view_module": "@jupyter-widgets/base",
            "_model_module_version": "1.5.0",
            "_view_count": null,
            "_view_module_version": "1.2.0",
            "bar_color": null,
            "_model_module": "@jupyter-widgets/controls"
          }
        },
        "37b19d9882d846f1a3483d9850cf6e3f": {
          "model_module": "@jupyter-widgets/base",
          "model_name": "LayoutModel",
          "model_module_version": "1.2.0",
          "state": {
            "_view_name": "LayoutView",
            "grid_template_rows": null,
            "right": null,
            "justify_content": null,
            "_view_module": "@jupyter-widgets/base",
            "overflow": null,
            "_model_module_version": "1.2.0",
            "_view_count": null,
            "flex_flow": null,
            "width": null,
            "min_width": null,
            "border": null,
            "align_items": null,
            "bottom": null,
            "_model_module": "@jupyter-widgets/base",
            "top": null,
            "grid_column": null,
            "overflow_y": null,
            "overflow_x": null,
            "grid_auto_flow": null,
            "grid_area": null,
            "grid_template_columns": null,
            "flex": null,
            "_model_name": "LayoutModel",
            "justify_items": null,
            "grid_row": null,
            "max_height": null,
            "align_content": null,
            "visibility": null,
            "align_self": null,
            "height": null,
            "min_height": null,
            "padding": null,
            "grid_auto_rows": null,
            "grid_gap": null,
            "max_width": null,
            "order": null,
            "_view_module_version": "1.2.0",
            "grid_template_areas": null,
            "object_position": null,
            "object_fit": null,
            "grid_auto_columns": null,
            "margin": null,
            "display": null,
            "left": null
          }
        },
        "3f7c2bd547d74640aa7ec8d31cf5497b": {
          "model_module": "@jupyter-widgets/controls",
          "model_name": "DescriptionStyleModel",
          "model_module_version": "1.5.0",
          "state": {
            "_view_name": "StyleView",
            "_model_name": "DescriptionStyleModel",
            "description_width": "",
            "_view_module": "@jupyter-widgets/base",
            "_model_module_version": "1.5.0",
            "_view_count": null,
            "_view_module_version": "1.2.0",
            "_model_module": "@jupyter-widgets/controls"
          }
        },
        "3c08ef1ceada433faa52bfd90fe73a7e": {
          "model_module": "@jupyter-widgets/base",
          "model_name": "LayoutModel",
          "model_module_version": "1.2.0",
          "state": {
            "_view_name": "LayoutView",
            "grid_template_rows": null,
            "right": null,
            "justify_content": null,
            "_view_module": "@jupyter-widgets/base",
            "overflow": null,
            "_model_module_version": "1.2.0",
            "_view_count": null,
            "flex_flow": null,
            "width": null,
            "min_width": null,
            "border": null,
            "align_items": null,
            "bottom": null,
            "_model_module": "@jupyter-widgets/base",
            "top": null,
            "grid_column": null,
            "overflow_y": null,
            "overflow_x": null,
            "grid_auto_flow": null,
            "grid_area": null,
            "grid_template_columns": null,
            "flex": null,
            "_model_name": "LayoutModel",
            "justify_items": null,
            "grid_row": null,
            "max_height": null,
            "align_content": null,
            "visibility": null,
            "align_self": null,
            "height": null,
            "min_height": null,
            "padding": null,
            "grid_auto_rows": null,
            "grid_gap": null,
            "max_width": null,
            "order": null,
            "_view_module_version": "1.2.0",
            "grid_template_areas": null,
            "object_position": null,
            "object_fit": null,
            "grid_auto_columns": null,
            "margin": null,
            "display": null,
            "left": null
          }
        }
      }
    }
  },
  "cells": [
    {
      "cell_type": "code",
      "metadata": {
        "colab": {
          "base_uri": "https://localhost:8080/"
        },
        "id": "n1h9zsoZ5r-4",
        "outputId": "01b3db54-db1e-4633-e775-beecc79710d3"
      },
      "source": [
        "from google.colab import drive\n",
        "drive.mount(\"/content/drive/\")"
      ],
      "execution_count": null,
      "outputs": [
        {
          "output_type": "stream",
          "text": [
            "Mounted at /content/drive/\n"
          ],
          "name": "stdout"
        }
      ]
    },
    {
      "cell_type": "code",
      "metadata": {
        "colab": {
          "base_uri": "https://localhost:8080/"
        },
        "id": "r12sqBaZ918w",
        "outputId": "8708094a-a89b-428f-a43b-04cf8038cbda"
      },
      "source": [
        "!pip install face-alignment"
      ],
      "execution_count": null,
      "outputs": [
        {
          "output_type": "stream",
          "text": [
            "Collecting face-alignment\n",
            "  Downloading face_alignment-1.3.4.tar.gz (26 kB)\n",
            "Requirement already satisfied: torch in /usr/local/lib/python3.7/dist-packages (from face-alignment) (1.9.0+cu102)\n",
            "Requirement already satisfied: numpy in /usr/local/lib/python3.7/dist-packages (from face-alignment) (1.19.5)\n",
            "Requirement already satisfied: scipy>=0.17 in /usr/local/lib/python3.7/dist-packages (from face-alignment) (1.4.1)\n",
            "Requirement already satisfied: scikit-image in /usr/local/lib/python3.7/dist-packages (from face-alignment) (0.16.2)\n",
            "Requirement already satisfied: opencv-python in /usr/local/lib/python3.7/dist-packages (from face-alignment) (4.1.2.30)\n",
            "Requirement already satisfied: tqdm in /usr/local/lib/python3.7/dist-packages (from face-alignment) (4.62.0)\n",
            "Requirement already satisfied: numba in /usr/local/lib/python3.7/dist-packages (from face-alignment) (0.51.2)\n",
            "Requirement already satisfied: llvmlite<0.35,>=0.34.0.dev0 in /usr/local/lib/python3.7/dist-packages (from numba->face-alignment) (0.34.0)\n",
            "Requirement already satisfied: setuptools in /usr/local/lib/python3.7/dist-packages (from numba->face-alignment) (57.2.0)\n",
            "Requirement already satisfied: matplotlib!=3.0.0,>=2.0.0 in /usr/local/lib/python3.7/dist-packages (from scikit-image->face-alignment) (3.2.2)\n",
            "Requirement already satisfied: networkx>=2.0 in /usr/local/lib/python3.7/dist-packages (from scikit-image->face-alignment) (2.6.2)\n",
            "Requirement already satisfied: pillow>=4.3.0 in /usr/local/lib/python3.7/dist-packages (from scikit-image->face-alignment) (7.1.2)\n",
            "Requirement already satisfied: imageio>=2.3.0 in /usr/local/lib/python3.7/dist-packages (from scikit-image->face-alignment) (2.4.1)\n",
            "Requirement already satisfied: PyWavelets>=0.4.0 in /usr/local/lib/python3.7/dist-packages (from scikit-image->face-alignment) (1.1.1)\n",
            "Requirement already satisfied: pyparsing!=2.0.4,!=2.1.2,!=2.1.6,>=2.0.1 in /usr/local/lib/python3.7/dist-packages (from matplotlib!=3.0.0,>=2.0.0->scikit-image->face-alignment) (2.4.7)\n",
            "Requirement already satisfied: kiwisolver>=1.0.1 in /usr/local/lib/python3.7/dist-packages (from matplotlib!=3.0.0,>=2.0.0->scikit-image->face-alignment) (1.3.1)\n",
            "Requirement already satisfied: cycler>=0.10 in /usr/local/lib/python3.7/dist-packages (from matplotlib!=3.0.0,>=2.0.0->scikit-image->face-alignment) (0.10.0)\n",
            "Requirement already satisfied: python-dateutil>=2.1 in /usr/local/lib/python3.7/dist-packages (from matplotlib!=3.0.0,>=2.0.0->scikit-image->face-alignment) (2.8.2)\n",
            "Requirement already satisfied: six in /usr/local/lib/python3.7/dist-packages (from cycler>=0.10->matplotlib!=3.0.0,>=2.0.0->scikit-image->face-alignment) (1.15.0)\n",
            "Requirement already satisfied: typing-extensions in /usr/local/lib/python3.7/dist-packages (from torch->face-alignment) (3.7.4.3)\n",
            "Building wheels for collected packages: face-alignment\n",
            "  Building wheel for face-alignment (setup.py) ... \u001b[?25l\u001b[?25hdone\n",
            "  Created wheel for face-alignment: filename=face_alignment-1.3.4-py2.py3-none-any.whl size=27862 sha256=42588d92820fb818140380098a142a7fd0770452debd4392f57fa39854bf4552\n",
            "  Stored in directory: /root/.cache/pip/wheels/73/f8/8f/617fca0e22aa1dc6b5fbfad78b07fa7626707b49167eea901c\n",
            "Successfully built face-alignment\n",
            "Installing collected packages: face-alignment\n",
            "Successfully installed face-alignment-1.3.4\n"
          ],
          "name": "stdout"
        }
      ]
    },
    {
      "cell_type": "code",
      "metadata": {
        "id": "upefnOzO59je"
      },
      "source": [
        "import os, shutil, numpy as np, cv2,zipfile\n",
        "import subprocess\n",
        "from google.colab import files\n",
        "from IPython.display import Audio\n",
        "import librosa\n",
        "import matplotlib.pyplot as plt \n",
        "from matplotlib.backends.backend_agg import FigureCanvasAgg as FigureCanvas\n",
        "from tensorflow.keras.utils import to_categorical\n",
        "from tensorflow.keras.applications.resnet50 import ResNet50\n",
        "from tensorflow.keras.preprocessing import image\n",
        "from tensorflow.keras.models import Model\n",
        "from tensorflow.keras.layers import Dense, GlobalAveragePooling2D, Flatten\n",
        "from tensorflow.keras.layers import Input, Dropout\n",
        "from tensorflow.keras.optimizers import Adam,SGD\n",
        "import tensorflow\n",
        "from tensorflow.keras import Sequential\n",
        "from tensorflow.keras import layers \n",
        "import face_alignment, copy"
      ],
      "execution_count": null,
      "outputs": []
    },
    {
      "cell_type": "code",
      "metadata": {
        "colab": {
          "base_uri": "https://localhost:8080/"
        },
        "id": "G2og8Yv88LOG",
        "outputId": "06ad2611-eadd-44e1-cbe3-8760bbbf0af5"
      },
      "source": [
        "!unzip './drive/My Drive/audio-video.zip'"
      ],
      "execution_count": null,
      "outputs": [
        {
          "output_type": "stream",
          "text": [
            "Archive:  ./drive/My Drive/audio-video.zip\n",
            "   creating: audio-video/\n",
            " extracting: audio-video/Video_Speech_Actor_01.zip  \n",
            " extracting: audio-video/Video_Speech_Actor_02.zip  \n",
            " extracting: audio-video/Video_Speech_Actor_03.zip  \n",
            " extracting: audio-video/Video_Speech_Actor_04.zip  \n",
            " extracting: audio-video/Video_Speech_Actor_05.zip  \n",
            " extracting: audio-video/Video_Speech_Actor_06.zip  \n",
            " extracting: audio-video/Video_Speech_Actor_07.zip  \n",
            " extracting: audio-video/Video_Speech_Actor_08.zip  \n",
            " extracting: audio-video/Video_Speech_Actor_09.zip  \n",
            " extracting: audio-video/Video_Speech_Actor_10.zip  \n",
            " extracting: audio-video/Video_Speech_Actor_11.zip  \n",
            " extracting: audio-video/Video_Speech_Actor_12.zip  \n",
            " extracting: audio-video/Video_Speech_Actor_13.zip  \n",
            " extracting: audio-video/Video_Speech_Actor_14.zip  \n",
            " extracting: audio-video/Video_Speech_Actor_15.zip  \n",
            " extracting: audio-video/Video_Speech_Actor_16.zip  \n",
            " extracting: audio-video/Video_Speech_Actor_17.zip  \n",
            " extracting: audio-video/Video_Speech_Actor_18.zip  \n",
            " extracting: audio-video/Video_Speech_Actor_19.zip  \n",
            " extracting: audio-video/Video_Speech_Actor_20.zip  \n",
            " extracting: audio-video/Video_Speech_Actor_21.zip  \n",
            " extracting: audio-video/Video_Speech_Actor_22.zip  \n",
            " extracting: audio-video/Video_Speech_Actor_23.zip  \n",
            " extracting: audio-video/Video_Speech_Actor_24.zip  \n"
          ],
          "name": "stdout"
        }
      ]
    },
    {
      "cell_type": "code",
      "metadata": {
        "colab": {
          "resources": {
            "http://localhost:8080/nbextensions/google.colab/files.js": {
              "data": "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",
              "ok": true,
              "headers": [
                [
                  "content-type",
                  "application/javascript"
                ]
              ],
              "status": 200,
              "status_text": ""
            }
          },
          "base_uri": "https://localhost:8080/",
          "height": 73
        },
        "id": "_zsI25xUEnWb",
        "outputId": "e177d1f8-2c75-4fc0-dbae-2642f0107c85"
      },
      "source": [
        "u=files.upload()"
      ],
      "execution_count": null,
      "outputs": [
        {
          "output_type": "display_data",
          "data": {
            "text/html": [
              "\n",
              "     <input type=\"file\" id=\"files-07d0293b-0b10-4e0b-adc0-4abfef4e6927\" name=\"files[]\" multiple disabled\n",
              "        style=\"border:none\" />\n",
              "     <output id=\"result-07d0293b-0b10-4e0b-adc0-4abfef4e6927\">\n",
              "      Upload widget is only available when the cell has been executed in the\n",
              "      current browser session. Please rerun this cell to enable.\n",
              "      </output>\n",
              "      <script src=\"/nbextensions/google.colab/files.js\"></script> "
            ],
            "text/plain": [
              "<IPython.core.display.HTML object>"
            ]
          },
          "metadata": {
            "tags": []
          }
        },
        {
          "output_type": "stream",
          "text": [
            "Saving try.JPG to try.JPG\n"
          ],
          "name": "stdout"
        }
      ]
    },
    {
      "cell_type": "code",
      "metadata": {
        "colab": {
          "base_uri": "https://localhost:8080/",
          "height": 114,
          "referenced_widgets": [
            "05671a652a6d4fa196dba7d94e0b88bf",
            "b2300fef00c4410eaa837824809cfa16",
            "23a68131bfb149d88216f21701e77b75",
            "2451d5f04fda4c7b9b74b18f781e453b",
            "e88eec5558d44599a2725d42426e7565",
            "44c8a997c9f542ed920d9f9ac773090a",
            "0b3117ef4fa641389a62e65ad636e98f",
            "eb1618e30f6a4c0e950d578fda125ea8",
            "d8f2f1c927224c1a8e211eae697ec42a",
            "c76a9f1f7cb94cef90731241b68b81b9",
            "b29d01a5f3fd4ca1beecba2e5d2c66b1",
            "f36ef6378d17414ba473309c70ccbb02",
            "e05fee0257264df9b1eddf3e57ddddf1",
            "4b13d81362fb43e8aae0b4ba018c2a2c",
            "14884e87ddc344ae94e3c9e6b0679142",
            "967895d592664441b4e66d805678c8c7",
            "5700c71949a1492a9e5c9abfc91e53be",
            "2542ac39a4d14cf5b690e6702ae3e62a",
            "78ab8953b68a4ecd816b73aa29f372e8",
            "37b19d9882d846f1a3483d9850cf6e3f",
            "3f7c2bd547d74640aa7ec8d31cf5497b",
            "3c08ef1ceada433faa52bfd90fe73a7e"
          ]
        },
        "id": "H4o9V-Ar968y",
        "outputId": "bcc68d0d-62d9-45a5-ea69-5678e03a2556"
      },
      "source": [
        "fa = face_alignment.FaceAlignment(face_alignment.LandmarksType._2D, flip_input=False)"
      ],
      "execution_count": null,
      "outputs": [
        {
          "output_type": "stream",
          "text": [
            "Downloading: \"https://www.adrianbulat.com/downloads/python-fan/s3fd-619a316812.pth\" to /root/.cache/torch/hub/checkpoints/s3fd-619a316812.pth\n"
          ],
          "name": "stderr"
        },
        {
          "output_type": "display_data",
          "data": {
            "application/vnd.jupyter.widget-view+json": {
              "model_id": "05671a652a6d4fa196dba7d94e0b88bf",
              "version_minor": 0,
              "version_major": 2
            },
            "text/plain": [
              "  0%|          | 0.00/85.7M [00:00<?, ?B/s]"
            ]
          },
          "metadata": {
            "tags": []
          }
        },
        {
          "output_type": "stream",
          "text": [
            "Downloading: \"https://www.adrianbulat.com/downloads/python-fan/2DFAN4-cd938726ad.zip\" to /root/.cache/torch/hub/checkpoints/2DFAN4-cd938726ad.zip\n"
          ],
          "name": "stderr"
        },
        {
          "output_type": "display_data",
          "data": {
            "application/vnd.jupyter.widget-view+json": {
              "model_id": "f36ef6378d17414ba473309c70ccbb02",
              "version_minor": 0,
              "version_major": 2
            },
            "text/plain": [
              "  0%|          | 0.00/91.9M [00:00<?, ?B/s]"
            ]
          },
          "metadata": {
            "tags": []
          }
        }
      ]
    },
    {
      "cell_type": "code",
      "metadata": {
        "id": "TLyZmD7l-rtG"
      },
      "source": [
        "def face(img):\n",
        "    input=cv2.cvtColor(img,cv2.COLOR_BGR2RGB)\n",
        "    preds = fa.get_landmarks(input)\n",
        "    pt=preds[0]\n",
        "    wdth = int(pt[30][1]-pt[27][1])\n",
        "    y11= int(min(pt[17][1],pt[22][1],pt[19][1],pt[24][1],pt[21][1], pt[25][1]) - wdth *0.7)\n",
        "    y12=  int(max(pt[6][1],pt[7][1],pt[8][1],pt[9][1],pt[10][1],pt[11][1]) + wdth *0.4)\n",
        "    x11= int(min(pt[0][0],pt[17][0],pt[30][0]) - wdth *0.4)\n",
        "    x12= int(max(pt[26][0],pt[16][0],pt[30][0]) + wdth *0.3)\n",
        "\n",
        "    return img[y11:y12,x11:x12]"
      ],
      "execution_count": null,
      "outputs": []
    },
    {
      "cell_type": "code",
      "metadata": {
        "colab": {
          "base_uri": "https://localhost:8080/",
          "height": 286
        },
        "id": "lYF6lOx6FRNl",
        "outputId": "895b13c2-e62b-4c5c-a45e-c18519c62efd"
      },
      "source": [
        "plt.imshow(face(cv2.imread('try.JPG')))"
      ],
      "execution_count": null,
      "outputs": [
        {
          "output_type": "execute_result",
          "data": {
            "text/plain": [
              "<matplotlib.image.AxesImage at 0x7fefe64421d0>"
            ]
          },
          "metadata": {
            "tags": []
          },
          "execution_count": 13
        },
        {
          "output_type": "display_data",
          "data": {
            "image/png": "[encoded data removed]",
            "text/plain": [
              "<Figure size 432x288 with 1 Axes>"
            ]
          },
          "metadata": {
            "tags": [],
            "needs_background": "light"
          }
        }
      ]
    },
    {
      "cell_type": "code",
      "metadata": {
        "id": "x_pJlwexMita"
      },
      "source": [
        "for i in range(1,9):\n",
        "    os.mkdir(str(i))\n",
        "    #shutil.rmtree(str(i))\n",
        "    #os.mkdir(str(i)+'_'+'1')"
      ],
      "execution_count": null,
      "outputs": []
    },
    {
      "cell_type": "code",
      "metadata": {
        "colab": {
          "base_uri": "https://localhost:8080/"
        },
        "id": "s4NooK0EMu3T",
        "outputId": "c73ca3e5-3573-4d5d-a7a3-e671e53f73d2"
      },
      "source": [
        "ls"
      ],
      "execution_count": null,
      "outputs": [
        {
          "output_type": "stream",
          "text": [
            "\u001b[0m\u001b[01;34m1\u001b[0m/    \u001b[01;34m2\u001b[0m/    \u001b[01;34m3\u001b[0m/    \u001b[01;34m4\u001b[0m/    \u001b[01;34m5\u001b[0m/    \u001b[01;34m6\u001b[0m/    \u001b[01;34m7\u001b[0m/    \u001b[01;34m8\u001b[0m/    \u001b[01;34maudio-video\u001b[0m/  \u001b[01;34msample_data\u001b[0m/\n",
            "\u001b[01;34m1_1\u001b[0m/  \u001b[01;34m2_1\u001b[0m/  \u001b[01;34m3_1\u001b[0m/  \u001b[01;34m4_1\u001b[0m/  \u001b[01;34m5_1\u001b[0m/  \u001b[01;34m6_1\u001b[0m/  \u001b[01;34m7_1\u001b[0m/  \u001b[01;34m8_1\u001b[0m/  \u001b[01;34mdrive\u001b[0m/        try.JPG\n"
          ],
          "name": "stdout"
        }
      ]
    },
    {
      "cell_type": "markdown",
      "metadata": {
        "id": "nT3QbLucB526"
      },
      "source": [
        "I was completing this but time got over"
      ]
    },
    {
      "cell_type": "code",
      "metadata": {
        "colab": {
          "base_uri": "https://localhost:8080/"
        },
        "id": "3J8FlmkF6R00",
        "outputId": "9e50354b-8027-4a64-bf83-35d8510db5b4"
      },
      "source": [
        "arr1,arr2,arr3=[],[],[]\n",
        "label1,label2,label3=[],[],[]\n",
        "\n",
        "for act in range(1,21):\n",
        "    #'audio-video/Video_Speech_'+'Actor_'+str(act).zfill(2)+\".zip\"\n",
        "    \n",
        "    with zipfile.ZipFile('audio-video/Video_Speech_'+'Actor_'+str(act).zfill(2)+\".zip\", 'r') as zip_ref:\n",
        "        zip_ref.extractall('zipfiles')\n",
        "    \n",
        "    l=os.listdir('zipfiles/Actor_'+str(act).zfill(2)+'/')\n",
        "    for ff in range(len(l)):\n",
        "        #print('Actor_'+str(act).zfill(2)+'/'+l[ff])\n",
        "        \n",
        "        doc_name=l[ff]\n",
        "        n=doc_name.split('.mp4')\n",
        "        w=int(n[0].split('-')[0])#01 = full-AV, 02 = video-only, 03 = audio-only\n",
        "        lab=int(n[0].split('-')[2])#01 = neutral, 02 = calm, 03 = happy, 04 = sad, 05 = angry, 06 = fearful, 07 = disgust, 08 = surprised\n",
        "        \n",
        "        arr=[]\n",
        "        video = cv2.VideoCapture('zipfiles/Actor_'+str(act).zfill(2)+'/'+l[ff])\n",
        "        while(True): \n",
        "            ret, frame = video.read() \n",
        "            if ret == True:  \n",
        "                #input=cv2.cvtColor(frame,cv2.COLOR_BGR2RGB)\n",
        "                img=face(frame)\n",
        "                frame=cv2.resize(img,(112,112))\n",
        "                #feat=frame.reshape(1,224,224,3)\n",
        "                arr.append(frame)\n",
        "            else:\n",
        "                print(\"done\",'zipfiles/Actor_'+str(act).zfill(2)+'/'+l[ff])\n",
        "                video.release()\n",
        "                cv2.destroyAllWindows()\n",
        "                break\n",
        "        #height, width, _ = frame.shape\n",
        "\n",
        "        out = cv2.VideoWriter(os.path.join(str(lab),'Actor_'+str(act).zfill(2)+'_'+n[0]+'.avi'),cv2.VideoWriter_fourcc('M','J','P','G'), 30, (112,112))\n",
        "        for image in arr:\n",
        "            out.write(image)\n",
        "        out.release()"
      ],
      "execution_count": null,
      "outputs": [
        {
          "output_type": "stream",
          "text": [
            "done zipfiles/Actor_01/02-01-03-01-02-01-01.mp4\n",
            "done zipfiles/Actor_01/02-01-05-01-01-02-01.mp4\n",
            "done zipfiles/Actor_01/02-01-06-01-01-02-01.mp4\n",
            "done zipfiles/Actor_01/02-01-07-02-02-01-01.mp4\n",
            "done zipfiles/Actor_01/01-01-03-01-01-02-01.mp4\n",
            "done zipfiles/Actor_01/02-01-07-01-01-01-01.mp4\n",
            "done zipfiles/Actor_01/01-01-08-01-02-02-01.mp4\n",
            "done zipfiles/Actor_01/02-01-06-01-02-01-01.mp4\n",
            "done zipfiles/Actor_01/02-01-05-01-02-01-01.mp4\n",
            "done zipfiles/Actor_01/01-01-05-01-02-01-01.mp4\n",
            "done zipfiles/Actor_01/01-01-07-02-02-01-01.mp4\n",
            "done zipfiles/Actor_01/01-01-06-02-02-02-01.mp4\n",
            "done zipfiles/Actor_01/01-01-04-01-02-01-01.mp4\n",
            "done zipfiles/Actor_01/01-01-07-01-02-01-01.mp4\n",
            "done zipfiles/Actor_01/01-01-05-01-01-01-01.mp4\n",
            "done zipfiles/Actor_01/01-01-02-01-02-02-01.mp4\n",
            "done zipfiles/Actor_01/01-01-04-02-01-01-01.mp4\n",
            "done zipfiles/Actor_01/02-01-04-02-01-01-01.mp4\n",
            "done zipfiles/Actor_01/01-01-02-01-02-01-01.mp4\n",
            "done zipfiles/Actor_01/01-01-05-02-01-01-01.mp4\n",
            "done zipfiles/Actor_01/02-01-01-01-01-01-01.mp4\n",
            "done zipfiles/Actor_01/02-01-05-01-02-02-01.mp4\n",
            "done zipfiles/Actor_01/02-01-02-02-01-01-01.mp4\n",
            "done zipfiles/Actor_01/02-01-08-01-01-01-01.mp4\n",
            "done zipfiles/Actor_01/02-01-02-02-01-02-01.mp4\n",
            "done zipfiles/Actor_01/01-01-08-01-01-02-01.mp4\n",
            "done zipfiles/Actor_01/02-01-05-01-01-01-01.mp4\n",
            "done zipfiles/Actor_01/01-01-08-01-01-01-01.mp4\n",
            "done zipfiles/Actor_01/02-01-03-02-02-02-01.mp4\n",
            "done zipfiles/Actor_01/01-01-04-02-02-01-01.mp4\n",
            "done zipfiles/Actor_01/01-01-08-02-02-01-01.mp4\n",
            "done zipfiles/Actor_01/02-01-06-02-01-02-01.mp4\n",
            "done zipfiles/Actor_01/01-01-05-01-01-02-01.mp4\n",
            "done zipfiles/Actor_01/01-01-04-01-01-01-01.mp4\n",
            "done zipfiles/Actor_01/02-01-03-01-01-01-01.mp4\n",
            "done zipfiles/Actor_01/01-01-02-01-01-01-01.mp4\n",
            "done zipfiles/Actor_01/02-01-02-02-02-01-01.mp4\n",
            "done zipfiles/Actor_01/02-01-05-02-02-01-01.mp4\n",
            "done zipfiles/Actor_01/01-01-06-01-01-02-01.mp4\n",
            "done zipfiles/Actor_01/01-01-06-02-02-01-01.mp4\n",
            "done zipfiles/Actor_01/02-01-07-01-01-02-01.mp4\n",
            "done zipfiles/Actor_01/02-01-04-02-01-02-01.mp4\n",
            "done zipfiles/Actor_01/01-01-08-01-02-01-01.mp4\n",
            "done zipfiles/Actor_01/01-01-08-02-01-02-01.mp4\n",
            "done zipfiles/Actor_01/01-01-03-01-02-01-01.mp4\n",
            "done zipfiles/Actor_01/01-01-02-02-02-02-01.mp4\n",
            "done zipfiles/Actor_01/02-01-07-02-02-02-01.mp4\n",
            "done zipfiles/Actor_01/01-01-03-02-02-02-01.mp4\n",
            "done zipfiles/Actor_01/01-01-01-01-02-02-01.mp4\n",
            "done zipfiles/Actor_01/01-01-06-02-01-01-01.mp4\n",
            "done zipfiles/Actor_01/02-01-08-01-01-02-01.mp4\n",
            "done zipfiles/Actor_01/01-01-04-01-01-02-01.mp4\n",
            "done zipfiles/Actor_01/01-01-01-01-01-02-01.mp4\n",
            "done zipfiles/Actor_01/02-01-04-01-01-02-01.mp4\n",
            "done zipfiles/Actor_01/02-01-01-01-01-02-01.mp4\n",
            "done zipfiles/Actor_01/02-01-04-02-02-02-01.mp4\n",
            "done zipfiles/Actor_01/01-01-07-02-01-02-01.mp4\n",
            "done zipfiles/Actor_01/01-01-06-01-02-02-01.mp4\n",
            "done zipfiles/Actor_01/01-01-07-01-02-02-01.mp4\n",
            "done zipfiles/Actor_01/01-01-03-02-01-01-01.mp4\n",
            "done zipfiles/Actor_01/01-01-03-02-01-02-01.mp4\n",
            "done zipfiles/Actor_01/02-01-06-01-02-02-01.mp4\n",
            "done zipfiles/Actor_01/02-01-04-01-02-02-01.mp4\n",
            "done zipfiles/Actor_01/02-01-08-02-01-02-01.mp4\n",
            "done zipfiles/Actor_01/01-01-03-02-02-01-01.mp4\n",
            "done zipfiles/Actor_01/02-01-02-01-02-02-01.mp4\n",
            "done zipfiles/Actor_01/02-01-02-01-01-02-01.mp4\n",
            "done zipfiles/Actor_01/02-01-08-02-01-01-01.mp4\n",
            "done zipfiles/Actor_01/02-01-01-01-02-02-01.mp4\n",
            "done zipfiles/Actor_01/01-01-04-02-02-02-01.mp4\n",
            "done zipfiles/Actor_01/02-01-07-02-01-01-01.mp4\n",
            "done zipfiles/Actor_01/02-01-08-01-02-01-01.mp4\n",
            "done zipfiles/Actor_01/01-01-05-02-01-02-01.mp4\n",
            "done zipfiles/Actor_01/02-01-07-01-02-02-01.mp4\n",
            "done zipfiles/Actor_01/01-01-07-01-01-02-01.mp4\n",
            "done zipfiles/Actor_01/02-01-03-01-02-02-01.mp4\n",
            "done zipfiles/Actor_01/02-01-03-02-01-01-01.mp4\n",
            "done zipfiles/Actor_01/01-01-04-01-02-02-01.mp4\n",
            "done zipfiles/Actor_01/01-01-07-01-01-01-01.mp4\n",
            "done zipfiles/Actor_01/02-01-07-01-02-01-01.mp4\n",
            "done zipfiles/Actor_01/02-01-06-02-01-01-01.mp4\n",
            "done zipfiles/Actor_01/02-01-04-01-02-01-01.mp4\n",
            "done zipfiles/Actor_01/02-01-06-02-02-02-01.mp4\n",
            "done zipfiles/Actor_01/01-01-03-01-01-01-01.mp4\n",
            "done zipfiles/Actor_01/02-01-05-02-01-01-01.mp4\n",
            "done zipfiles/Actor_01/01-01-04-02-01-02-01.mp4\n",
            "done zipfiles/Actor_01/02-01-06-02-02-01-01.mp4\n",
            "done zipfiles/Actor_01/01-01-03-01-02-02-01.mp4\n",
            "done zipfiles/Actor_01/02-01-07-02-01-02-01.mp4\n",
            "done zipfiles/Actor_01/01-01-02-02-01-01-01.mp4\n",
            "done zipfiles/Actor_01/02-01-04-01-01-01-01.mp4\n",
            "done zipfiles/Actor_01/01-01-05-01-02-02-01.mp4\n",
            "done zipfiles/Actor_01/01-01-02-02-02-01-01.mp4\n"
          ],
          "name": "stdout"
        }
      ]
    },
    {
      "cell_type": "code",
      "metadata": {
        "id": "QWjDGngNP6Gs"
      },
      "source": [
        "#height, width, _ = frame.shape\n",
        "#video_wr = cv2.VideoWriter(str(lab)+'/Actor_'+str(act).zfill(2)+'/'+l[ff], 0, 1, (112,112))"
      ],
      "execution_count": null,
      "outputs": []
    },
    {
      "cell_type": "code",
      "metadata": {
        "id": "ShCY6IYtUcrX"
      },
      "source": [
        "# out = cv2.VideoWriter(os.path.join(str(lab),'Actor_'+str(act).zfill(2)+'_'+n[0]+'.avi'),cv2.VideoWriter_fourcc('M','J','P','G'), 30, (112,112))\n",
        "# for image in arr:\n",
        "#     out.write(image)\n",
        "# out.release()"
      ],
      "execution_count": null,
      "outputs": []
    },
    {
      "cell_type": "code",
      "metadata": {
        "colab": {
          "base_uri": "https://localhost:8080/",
          "height": 17
        },
        "id": "yhx1bmLrQMl8",
        "outputId": "20613964-d4c2-49ba-901b-af69c4dbe6da"
      },
      "source": [
        "# files.download('outpy.avi')"
      ],
      "execution_count": null,
      "outputs": [
        {
          "output_type": "display_data",
          "data": {
            "application/javascript": [
              "\n",
              "    async function download(id, filename, size) {\n",
              "      if (!google.colab.kernel.accessAllowed) {\n",
              "        return;\n",
              "      }\n",
              "      const div = document.createElement('div');\n",
              "      const label = document.createElement('label');\n",
              "      label.textContent = `Downloading \"${filename}\": `;\n",
              "      div.appendChild(label);\n",
              "      const progress = document.createElement('progress');\n",
              "      progress.max = size;\n",
              "      div.appendChild(progress);\n",
              "      document.body.appendChild(div);\n",
              "\n",
              "      const buffers = [];\n",
              "      let downloaded = 0;\n",
              "\n",
              "      const channel = await google.colab.kernel.comms.open(id);\n",
              "      // Send a message to notify the kernel that we're ready.\n",
              "      channel.send({})\n",
              "\n",
              "      for await (const message of channel.messages) {\n",
              "        // Send a message to notify the kernel that we're ready.\n",
              "        channel.send({})\n",
              "        if (message.buffers) {\n",
              "          for (const buffer of message.buffers) {\n",
              "            buffers.push(buffer);\n",
              "            downloaded += buffer.byteLength;\n",
              "            progress.value = downloaded;\n",
              "          }\n",
              "        }\n",
              "      }\n",
              "      const blob = new Blob(buffers, {type: 'application/binary'});\n",
              "      const a = document.createElement('a');\n",
              "      a.href = window.URL.createObjectURL(blob);\n",
              "      a.download = filename;\n",
              "      div.appendChild(a);\n",
              "      a.click();\n",
              "      div.remove();\n",
              "    }\n",
              "  "
            ],
            "text/plain": [
              "<IPython.core.display.Javascript object>"
            ]
          },
          "metadata": {
            "tags": []
          }
        },
        {
          "output_type": "display_data",
          "data": {
            "application/javascript": [
              "download(\"download_c16abf9e-eefb-4172-a850-11ec5091d3b0\", \"outpy.avi\", 338556)"
            ],
            "text/plain": [
              "<IPython.core.display.Javascript object>"
            ]
          },
          "metadata": {
            "tags": []
          }
        }
      ]
    },
    {
      "cell_type": "markdown",
      "metadata": {
        "id": "TMtTv_hxaOTV"
      },
      "source": [
        "video_path,feature_path <br>\n",
        "absolute_path_video1.mp4,absolute_path_of_video1_features.npy\n",
        "absolute_path_video2.webm,absolute_path_of_video2_features.npy"
      ]
    },
    {
      "cell_type": "code",
      "metadata": {
        "id": "0-hrY8NoceNR"
      },
      "source": [
        "csv_arr=[['video_path','feature_path']]\n",
        "for i in range(1,9):\n",
        "    for j in os.listdir(str(i)):\n",
        "        csv_arr.append([str(i)+'/'+j,str(i)+'_'+'1/'+j.split('.avi')[0]+'.npy'])"
      ],
      "execution_count": null,
      "outputs": []
    },
    {
      "cell_type": "code",
      "metadata": {
        "colab": {
          "base_uri": "https://localhost:8080/",
          "height": 35
        },
        "id": "3s_81xuW8gS9",
        "outputId": "8feb800b-22f8-4339-ea74-136de5d86b0e"
      },
      "source": [
        "str(i)+'_'+'1/'+j.split('.avi')[0]+'.npy'"
      ],
      "execution_count": null,
      "outputs": [
        {
          "output_type": "execute_result",
          "data": {
            "application/vnd.google.colaboratory.intrinsic+json": {
              "type": "string"
            },
            "text/plain": [
              "'8_1/Actor_02_01-01-08-02-02-02-02.npy'"
            ]
          },
          "metadata": {
            "tags": []
          },
          "execution_count": 90
        }
      ]
    },
    {
      "cell_type": "code",
      "metadata": {
        "colab": {
          "base_uri": "https://localhost:8080/"
        },
        "id": "FzwuEnPQ0_W_",
        "outputId": "3a8da110-a04e-4827-9c83-be57a602833d"
      },
      "source": [
        "csv_arr"
      ],
      "execution_count": null,
      "outputs": [
        {
          "output_type": "execute_result",
          "data": {
            "text/plain": [
              "[['video_path', 'feature_path'],\n",
              " ['1/Actor_01_01-01-01-01-02-02-01.avi',\n",
              "  '1_1/Actor_01_01-01-01-01-02-02-01.npy'],\n",
              " ['1/Actor_02_02-01-01-01-02-02-02.avi',\n",
              "  '1_1/Actor_02_02-01-01-01-02-02-02.npy'],\n",
              " ['1/Actor_01_01-01-01-01-01-02-01.avi',\n",
              "  '1_1/Actor_01_01-01-01-01-01-02-01.npy'],\n",
              " ['1/Actor_01_02-01-01-01-02-02-01.avi',\n",
              "  '1_1/Actor_01_02-01-01-01-02-02-01.npy'],\n",
              " ['1/Actor_02_01-01-01-01-02-02-02.avi',\n",
              "  '1_1/Actor_02_01-01-01-01-02-02-02.npy'],\n",
              " ['1/Actor_02_02-01-01-01-01-02-02.avi',\n",
              "  '1_1/Actor_02_02-01-01-01-01-02-02.npy'],\n",
              " ['1/Actor_02_02-01-01-01-02-01-02.avi',\n",
              "  '1_1/Actor_02_02-01-01-01-02-01-02.npy'],\n",
              " ['1/Actor_01_02-01-01-01-01-01-01.avi',\n",
              "  '1_1/Actor_01_02-01-01-01-01-01-01.npy'],\n",
              " ['1/Actor_02_02-01-01-01-01-01-02.avi',\n",
              "  '1_1/Actor_02_02-01-01-01-01-01-02.npy'],\n",
              " ['1/Actor_01_02-01-01-01-01-02-01.avi',\n",
              "  '1_1/Actor_01_02-01-01-01-01-02-01.npy'],\n",
              " ['1/Actor_01_01-01-01-01-02-01-01.avi',\n",
              "  '1_1/Actor_01_01-01-01-01-02-01-01.npy'],\n",
              " ['1/Actor_01_01-01-01-01-01-01-01.avi',\n",
              "  '1_1/Actor_01_01-01-01-01-01-01-01.npy'],\n",
              " ['1/Actor_01_02-01-01-01-02-01-01.avi',\n",
              "  '1_1/Actor_01_02-01-01-01-02-01-01.npy'],\n",
              " ['1/Actor_02_01-01-01-01-01-02-02.avi',\n",
              "  '1_1/Actor_02_01-01-01-01-01-02-02.npy'],\n",
              " ['2/Actor_02_02-01-02-02-02-02-02.avi',\n",
              "  '2_1/Actor_02_02-01-02-02-02-02-02.npy'],\n",
              " ['2/Actor_01_02-01-02-02-02-02-01.avi',\n",
              "  '2_1/Actor_01_02-01-02-02-02-02-01.npy'],\n",
              " ['2/Actor_01_01-01-02-02-02-02-01.avi',\n",
              "  '2_1/Actor_01_01-01-02-02-02-02-01.npy'],\n",
              " ['2/Actor_01_02-01-02-02-02-01-01.avi',\n",
              "  '2_1/Actor_01_02-01-02-02-02-01-01.npy'],\n",
              " ['2/Actor_01_01-01-02-02-02-01-01.avi',\n",
              "  '2_1/Actor_01_01-01-02-02-02-01-01.npy'],\n",
              " ['2/Actor_02_01-01-02-01-02-02-02.avi',\n",
              "  '2_1/Actor_02_01-01-02-01-02-02-02.npy'],\n",
              " ['2/Actor_01_02-01-02-01-02-02-01.avi',\n",
              "  '2_1/Actor_01_02-01-02-01-02-02-01.npy'],\n",
              " ['2/Actor_01_02-01-02-01-01-02-01.avi',\n",
              "  '2_1/Actor_01_02-01-02-01-01-02-01.npy'],\n",
              " ['2/Actor_01_01-01-02-01-01-01-01.avi',\n",
              "  '2_1/Actor_01_01-01-02-01-01-01-01.npy'],\n",
              " ['2/Actor_01_01-01-02-01-01-02-01.avi',\n",
              "  '2_1/Actor_01_01-01-02-01-01-02-01.npy'],\n",
              " ['2/Actor_01_01-01-02-02-01-01-01.avi',\n",
              "  '2_1/Actor_01_01-01-02-02-01-01-01.npy'],\n",
              " ['2/Actor_02_02-01-02-02-01-01-02.avi',\n",
              "  '2_1/Actor_02_02-01-02-02-01-01-02.npy'],\n",
              " ['2/Actor_01_02-01-02-01-02-01-01.avi',\n",
              "  '2_1/Actor_01_02-01-02-01-02-01-01.npy'],\n",
              " ['2/Actor_01_01-01-02-01-02-02-01.avi',\n",
              "  '2_1/Actor_01_01-01-02-01-02-02-01.npy'],\n",
              " ['2/Actor_01_02-01-02-02-01-02-01.avi',\n",
              "  '2_1/Actor_01_02-01-02-02-01-02-01.npy'],\n",
              " ['2/Actor_02_01-01-02-01-02-01-02.avi',\n",
              "  '2_1/Actor_02_01-01-02-01-02-01-02.npy'],\n",
              " ['2/Actor_01_01-01-02-02-01-02-01.avi',\n",
              "  '2_1/Actor_01_01-01-02-02-01-02-01.npy'],\n",
              " ['2/Actor_02_02-01-02-02-02-01-02.avi',\n",
              "  '2_1/Actor_02_02-01-02-02-02-01-02.npy'],\n",
              " ['2/Actor_02_02-01-02-01-02-01-02.avi',\n",
              "  '2_1/Actor_02_02-01-02-01-02-01-02.npy'],\n",
              " ['2/Actor_02_01-01-02-02-01-02-02.avi',\n",
              "  '2_1/Actor_02_01-01-02-02-01-02-02.npy'],\n",
              " ['2/Actor_01_01-01-02-01-02-01-01.avi',\n",
              "  '2_1/Actor_01_01-01-02-01-02-01-01.npy'],\n",
              " ['2/Actor_02_01-01-02-02-01-01-02.avi',\n",
              "  '2_1/Actor_02_01-01-02-02-01-01-02.npy'],\n",
              " ['2/Actor_01_02-01-02-02-01-01-01.avi',\n",
              "  '2_1/Actor_01_02-01-02-02-01-01-01.npy'],\n",
              " ['2/Actor_01_02-01-02-01-01-01-01.avi',\n",
              "  '2_1/Actor_01_02-01-02-01-01-01-01.npy'],\n",
              " ['3/Actor_01_01-01-03-01-01-01-01.avi',\n",
              "  '3_1/Actor_01_01-01-03-01-01-01-01.npy'],\n",
              " ['3/Actor_01_01-01-03-02-02-02-01.avi',\n",
              "  '3_1/Actor_01_01-01-03-02-02-02-01.npy'],\n",
              " ['3/Actor_01_02-01-03-01-01-02-01.avi',\n",
              "  '3_1/Actor_01_02-01-03-01-01-02-01.npy'],\n",
              " ['3/Actor_01_02-01-03-01-02-01-01.avi',\n",
              "  '3_1/Actor_01_02-01-03-01-02-01-01.npy'],\n",
              " ['3/Actor_02_02-01-03-02-01-02-02.avi',\n",
              "  '3_1/Actor_02_02-01-03-02-01-02-02.npy'],\n",
              " ['3/Actor_01_01-01-03-01-02-01-01.avi',\n",
              "  '3_1/Actor_01_01-01-03-01-02-01-01.npy'],\n",
              " ['3/Actor_01_02-01-03-02-02-02-01.avi',\n",
              "  '3_1/Actor_01_02-01-03-02-02-02-01.npy'],\n",
              " ['3/Actor_02_01-01-03-01-02-01-02.avi',\n",
              "  '3_1/Actor_02_01-01-03-01-02-01-02.npy'],\n",
              " ['3/Actor_01_02-01-03-02-01-01-01.avi',\n",
              "  '3_1/Actor_01_02-01-03-02-01-01-01.npy'],\n",
              " ['3/Actor_01_01-01-03-02-02-01-01.avi',\n",
              "  '3_1/Actor_01_01-01-03-02-02-01-01.npy'],\n",
              " ['3/Actor_02_02-01-03-01-02-02-02.avi',\n",
              "  '3_1/Actor_02_02-01-03-01-02-02-02.npy'],\n",
              " ['3/Actor_01_02-01-03-02-02-01-01.avi',\n",
              "  '3_1/Actor_01_02-01-03-02-02-01-01.npy'],\n",
              " ['3/Actor_02_02-01-03-01-01-01-02.avi',\n",
              "  '3_1/Actor_02_02-01-03-01-01-01-02.npy'],\n",
              " ['3/Actor_01_01-01-03-01-02-02-01.avi',\n",
              "  '3_1/Actor_01_01-01-03-01-02-02-01.npy'],\n",
              " ['3/Actor_01_01-01-03-02-01-02-01.avi',\n",
              "  '3_1/Actor_01_01-01-03-02-01-02-01.npy'],\n",
              " ['3/Actor_01_02-01-03-01-01-01-01.avi',\n",
              "  '3_1/Actor_01_02-01-03-01-01-01-01.npy'],\n",
              " ['3/Actor_02_02-01-03-02-02-01-02.avi',\n",
              "  '3_1/Actor_02_02-01-03-02-02-01-02.npy'],\n",
              " ['3/Actor_01_02-01-03-02-01-02-01.avi',\n",
              "  '3_1/Actor_01_02-01-03-02-01-02-01.npy'],\n",
              " ['3/Actor_01_01-01-03-02-01-01-01.avi',\n",
              "  '3_1/Actor_01_01-01-03-02-01-01-01.npy'],\n",
              " ['3/Actor_02_01-01-03-02-01-01-02.avi',\n",
              "  '3_1/Actor_02_01-01-03-02-01-01-02.npy'],\n",
              " ['3/Actor_01_01-01-03-01-01-02-01.avi',\n",
              "  '3_1/Actor_01_01-01-03-01-01-02-01.npy'],\n",
              " ['3/Actor_01_02-01-03-01-02-02-01.avi',\n",
              "  '3_1/Actor_01_02-01-03-01-02-02-01.npy'],\n",
              " ['4/Actor_01_01-01-04-02-02-01-01.avi',\n",
              "  '4_1/Actor_01_01-01-04-02-02-01-01.npy'],\n",
              " ['4/Actor_02_02-01-04-01-01-02-02.avi',\n",
              "  '4_1/Actor_02_02-01-04-01-01-02-02.npy'],\n",
              " ['4/Actor_01_01-01-04-01-02-02-01.avi',\n",
              "  '4_1/Actor_01_01-01-04-01-02-02-01.npy'],\n",
              " ['4/Actor_01_02-01-04-02-02-02-01.avi',\n",
              "  '4_1/Actor_01_02-01-04-02-02-02-01.npy'],\n",
              " ['4/Actor_01_02-01-04-01-02-01-01.avi',\n",
              "  '4_1/Actor_01_02-01-04-01-02-01-01.npy'],\n",
              " ['4/Actor_02_01-01-04-02-01-01-02.avi',\n",
              "  '4_1/Actor_02_01-01-04-02-01-01-02.npy'],\n",
              " ['4/Actor_01_01-01-04-02-01-02-01.avi',\n",
              "  '4_1/Actor_01_01-01-04-02-01-02-01.npy'],\n",
              " ['4/Actor_02_02-01-04-01-02-02-02.avi',\n",
              "  '4_1/Actor_02_02-01-04-01-02-02-02.npy'],\n",
              " ['4/Actor_01_02-01-04-01-02-02-01.avi',\n",
              "  '4_1/Actor_01_02-01-04-01-02-02-01.npy'],\n",
              " ['4/Actor_01_01-01-04-01-02-01-01.avi',\n",
              "  '4_1/Actor_01_01-01-04-01-02-01-01.npy'],\n",
              " ['4/Actor_01_02-01-04-02-01-02-01.avi',\n",
              "  '4_1/Actor_01_02-01-04-02-01-02-01.npy'],\n",
              " ['4/Actor_01_02-01-04-02-01-01-01.avi',\n",
              "  '4_1/Actor_01_02-01-04-02-01-01-01.npy'],\n",
              " ['4/Actor_02_02-01-04-02-02-02-02.avi',\n",
              "  '4_1/Actor_02_02-01-04-02-02-02-02.npy'],\n",
              " ['4/Actor_02_01-01-04-01-02-01-02.avi',\n",
              "  '4_1/Actor_02_01-01-04-01-02-01-02.npy'],\n",
              " ['4/Actor_01_01-01-04-01-01-01-01.avi',\n",
              "  '4_1/Actor_01_01-01-04-01-01-01-01.npy'],\n",
              " ['4/Actor_01_02-01-04-01-01-01-01.avi',\n",
              "  '4_1/Actor_01_02-01-04-01-01-01-01.npy'],\n",
              " ['4/Actor_02_01-01-04-01-02-02-02.avi',\n",
              "  '4_1/Actor_02_01-01-04-01-02-02-02.npy'],\n",
              " ['4/Actor_02_01-01-04-02-02-02-02.avi',\n",
              "  '4_1/Actor_02_01-01-04-02-02-02-02.npy'],\n",
              " ['4/Actor_01_02-01-04-01-01-02-01.avi',\n",
              "  '4_1/Actor_01_02-01-04-01-01-02-01.npy'],\n",
              " ['4/Actor_01_02-01-04-02-02-01-01.avi',\n",
              "  '4_1/Actor_01_02-01-04-02-02-01-01.npy'],\n",
              " ['4/Actor_01_01-01-04-02-01-01-01.avi',\n",
              "  '4_1/Actor_01_01-01-04-02-01-01-01.npy'],\n",
              " ['4/Actor_01_01-01-04-01-01-02-01.avi',\n",
              "  '4_1/Actor_01_01-01-04-01-01-02-01.npy'],\n",
              " ['4/Actor_01_01-01-04-02-02-02-01.avi',\n",
              "  '4_1/Actor_01_01-01-04-02-02-02-01.npy'],\n",
              " ['4/Actor_02_01-01-04-01-01-02-02.avi',\n",
              "  '4_1/Actor_02_01-01-04-01-01-02-02.npy'],\n",
              " ['4/Actor_02_01-01-04-02-02-01-02.avi',\n",
              "  '4_1/Actor_02_01-01-04-02-02-01-02.npy'],\n",
              " ['5/Actor_01_01-01-05-02-01-01-01.avi',\n",
              "  '5_1/Actor_01_01-01-05-02-01-01-01.npy'],\n",
              " ['5/Actor_01_02-01-05-01-01-01-01.avi',\n",
              "  '5_1/Actor_01_02-01-05-01-01-01-01.npy'],\n",
              " ['5/Actor_02_01-01-05-01-01-02-02.avi',\n",
              "  '5_1/Actor_02_01-01-05-01-01-02-02.npy'],\n",
              " ['5/Actor_01_01-01-05-01-02-01-01.avi',\n",
              "  '5_1/Actor_01_01-01-05-01-02-01-01.npy'],\n",
              " ['5/Actor_01_01-01-05-01-01-02-01.avi',\n",
              "  '5_1/Actor_01_01-01-05-01-01-02-01.npy'],\n",
              " ['5/Actor_01_02-01-05-01-02-01-01.avi',\n",
              "  '5_1/Actor_01_02-01-05-01-02-01-01.npy'],\n",
              " ['5/Actor_02_02-01-05-01-02-01-02.avi',\n",
              "  '5_1/Actor_02_02-01-05-01-02-01-02.npy'],\n",
              " ['5/Actor_01_02-01-05-01-01-02-01.avi',\n",
              "  '5_1/Actor_01_02-01-05-01-01-02-01.npy'],\n",
              " ['5/Actor_01_01-01-05-02-02-02-01.avi',\n",
              "  '5_1/Actor_01_01-01-05-02-02-02-01.npy'],\n",
              " ['5/Actor_01_01-01-05-02-02-01-01.avi',\n",
              "  '5_1/Actor_01_01-01-05-02-02-01-01.npy'],\n",
              " ['5/Actor_01_02-01-05-02-02-01-01.avi',\n",
              "  '5_1/Actor_01_02-01-05-02-02-01-01.npy'],\n",
              " ['5/Actor_01_02-01-05-02-01-01-01.avi',\n",
              "  '5_1/Actor_01_02-01-05-02-01-01-01.npy'],\n",
              " ['5/Actor_01_02-01-05-02-02-02-01.avi',\n",
              "  '5_1/Actor_01_02-01-05-02-02-02-01.npy'],\n",
              " ['5/Actor_01_02-01-05-02-01-02-01.avi',\n",
              "  '5_1/Actor_01_02-01-05-02-01-02-01.npy'],\n",
              " ['5/Actor_01_01-01-05-01-02-02-01.avi',\n",
              "  '5_1/Actor_01_01-01-05-01-02-02-01.npy'],\n",
              " ['5/Actor_02_02-01-05-01-01-01-02.avi',\n",
              "  '5_1/Actor_02_02-01-05-01-01-01-02.npy'],\n",
              " ['5/Actor_01_02-01-05-01-02-02-01.avi',\n",
              "  '5_1/Actor_01_02-01-05-01-02-02-01.npy'],\n",
              " ['5/Actor_02_01-01-05-02-02-02-02.avi',\n",
              "  '5_1/Actor_02_01-01-05-02-02-02-02.npy'],\n",
              " ['5/Actor_02_02-01-05-02-02-02-02.avi',\n",
              "  '5_1/Actor_02_02-01-05-02-02-02-02.npy'],\n",
              " ['5/Actor_02_02-01-05-02-02-01-02.avi',\n",
              "  '5_1/Actor_02_02-01-05-02-02-01-02.npy'],\n",
              " ['5/Actor_01_01-01-05-01-01-01-01.avi',\n",
              "  '5_1/Actor_01_01-01-05-01-01-01-01.npy'],\n",
              " ['5/Actor_01_01-01-05-02-01-02-01.avi',\n",
              "  '5_1/Actor_01_01-01-05-02-01-02-01.npy'],\n",
              " ['5/Actor_02_01-01-05-01-02-01-02.avi',\n",
              "  '5_1/Actor_02_01-01-05-01-02-01-02.npy'],\n",
              " ['6/Actor_01_01-01-06-01-01-01-01.avi',\n",
              "  '6_1/Actor_01_01-01-06-01-01-01-01.npy'],\n",
              " ['6/Actor_01_01-01-06-02-01-01-01.avi',\n",
              "  '6_1/Actor_01_01-01-06-02-01-01-01.npy'],\n",
              " ['6/Actor_02_02-01-06-01-01-02-02.avi',\n",
              "  '6_1/Actor_02_02-01-06-01-01-02-02.npy'],\n",
              " ['6/Actor_01_02-01-06-02-01-01-01.avi',\n",
              "  '6_1/Actor_01_02-01-06-02-01-01-01.npy'],\n",
              " ['6/Actor_01_01-01-06-02-02-01-01.avi',\n",
              "  '6_1/Actor_01_01-01-06-02-02-01-01.npy'],\n",
              " ['6/Actor_01_01-01-06-01-02-02-01.avi',\n",
              "  '6_1/Actor_01_01-01-06-01-02-02-01.npy'],\n",
              " ['6/Actor_02_01-01-06-02-01-02-02.avi',\n",
              "  '6_1/Actor_02_01-01-06-02-01-02-02.npy'],\n",
              " ['6/Actor_01_02-01-06-01-01-01-01.avi',\n",
              "  '6_1/Actor_01_02-01-06-01-01-01-01.npy'],\n",
              " ['6/Actor_01_02-01-06-01-01-02-01.avi',\n",
              "  '6_1/Actor_01_02-01-06-01-01-02-01.npy'],\n",
              " ['6/Actor_01_01-01-06-02-02-02-01.avi',\n",
              "  '6_1/Actor_01_01-01-06-02-02-02-01.npy'],\n",
              " ['6/Actor_01_02-01-06-02-02-02-01.avi',\n",
              "  '6_1/Actor_01_02-01-06-02-02-02-01.npy'],\n",
              " ['6/Actor_02_01-01-06-01-01-02-02.avi',\n",
              "  '6_1/Actor_02_01-01-06-01-01-02-02.npy'],\n",
              " ['6/Actor_02_01-01-06-02-02-01-02.avi',\n",
              "  '6_1/Actor_02_01-01-06-02-02-01-02.npy'],\n",
              " ['6/Actor_02_02-01-06-02-01-02-02.avi',\n",
              "  '6_1/Actor_02_02-01-06-02-01-02-02.npy'],\n",
              " ['6/Actor_02_01-01-06-02-02-02-02.avi',\n",
              "  '6_1/Actor_02_01-01-06-02-02-02-02.npy'],\n",
              " ['6/Actor_01_02-01-06-01-02-01-01.avi',\n",
              "  '6_1/Actor_01_02-01-06-01-02-01-01.npy'],\n",
              " ['6/Actor_02_01-01-06-02-01-01-02.avi',\n",
              "  '6_1/Actor_02_01-01-06-02-01-01-02.npy'],\n",
              " ['6/Actor_02_02-01-06-01-02-02-02.avi',\n",
              "  '6_1/Actor_02_02-01-06-01-02-02-02.npy'],\n",
              " ['6/Actor_01_01-01-06-02-01-02-01.avi',\n",
              "  '6_1/Actor_01_01-01-06-02-01-02-01.npy'],\n",
              " ['6/Actor_01_01-01-06-01-02-01-01.avi',\n",
              "  '6_1/Actor_01_01-01-06-01-02-01-01.npy'],\n",
              " ['6/Actor_01_02-01-06-01-02-02-01.avi',\n",
              "  '6_1/Actor_01_02-01-06-01-02-02-01.npy'],\n",
              " ['6/Actor_01_01-01-06-01-01-02-01.avi',\n",
              "  '6_1/Actor_01_01-01-06-01-01-02-01.npy'],\n",
              " ['6/Actor_01_02-01-06-02-01-02-01.avi',\n",
              "  '6_1/Actor_01_02-01-06-02-01-02-01.npy'],\n",
              " ['6/Actor_01_02-01-06-02-02-01-01.avi',\n",
              "  '6_1/Actor_01_02-01-06-02-02-01-01.npy'],\n",
              " ['6/Actor_02_02-01-06-02-01-01-02.avi',\n",
              "  '6_1/Actor_02_02-01-06-02-01-01-02.npy'],\n",
              " ['7/Actor_01_02-01-07-01-02-02-01.avi',\n",
              "  '7_1/Actor_01_02-01-07-01-02-02-01.npy'],\n",
              " ['7/Actor_01_01-01-07-01-02-02-01.avi',\n",
              "  '7_1/Actor_01_01-01-07-01-02-02-01.npy'],\n",
              " ['7/Actor_01_01-01-07-01-01-02-01.avi',\n",
              "  '7_1/Actor_01_01-01-07-01-01-02-01.npy'],\n",
              " ['7/Actor_01_01-01-07-02-01-01-01.avi',\n",
              "  '7_1/Actor_01_01-01-07-02-01-01-01.npy'],\n",
              " ['7/Actor_02_02-01-07-01-01-02-02.avi',\n",
              "  '7_1/Actor_02_02-01-07-01-01-02-02.npy'],\n",
              " ['7/Actor_01_02-01-07-02-01-02-01.avi',\n",
              "  '7_1/Actor_01_02-01-07-02-01-02-01.npy'],\n",
              " ['7/Actor_01_02-01-07-01-01-01-01.avi',\n",
              "  '7_1/Actor_01_02-01-07-01-01-01-01.npy'],\n",
              " ['7/Actor_02_01-01-07-01-02-01-02.avi',\n",
              "  '7_1/Actor_02_01-01-07-01-02-01-02.npy'],\n",
              " ['7/Actor_01_01-01-07-01-02-01-01.avi',\n",
              "  '7_1/Actor_01_01-01-07-01-02-01-01.npy'],\n",
              " ['7/Actor_01_02-01-07-02-01-01-01.avi',\n",
              "  '7_1/Actor_01_02-01-07-02-01-01-01.npy'],\n",
              " ['7/Actor_01_02-01-07-02-02-01-01.avi',\n",
              "  '7_1/Actor_01_02-01-07-02-02-01-01.npy'],\n",
              " ['7/Actor_01_01-01-07-02-02-01-01.avi',\n",
              "  '7_1/Actor_01_01-01-07-02-02-01-01.npy'],\n",
              " ['7/Actor_01_02-01-07-02-02-02-01.avi',\n",
              "  '7_1/Actor_01_02-01-07-02-02-02-01.npy'],\n",
              " ['7/Actor_01_01-01-07-02-02-02-01.avi',\n",
              "  '7_1/Actor_01_01-01-07-02-02-02-01.npy'],\n",
              " ['7/Actor_02_01-01-07-01-01-02-02.avi',\n",
              "  '7_1/Actor_02_01-01-07-01-01-02-02.npy'],\n",
              " ['7/Actor_01_02-01-07-01-02-01-01.avi',\n",
              "  '7_1/Actor_01_02-01-07-01-02-01-01.npy'],\n",
              " ['7/Actor_02_01-01-07-02-02-02-02.avi',\n",
              "  '7_1/Actor_02_01-01-07-02-02-02-02.npy'],\n",
              " ['7/Actor_01_02-01-07-01-01-02-01.avi',\n",
              "  '7_1/Actor_01_02-01-07-01-01-02-01.npy'],\n",
              " ['7/Actor_01_01-01-07-01-01-01-01.avi',\n",
              "  '7_1/Actor_01_01-01-07-01-01-01-01.npy'],\n",
              " ['7/Actor_01_01-01-07-02-01-02-01.avi',\n",
              "  '7_1/Actor_01_01-01-07-02-01-02-01.npy'],\n",
              " ['8/Actor_02_01-01-08-02-01-01-02.avi',\n",
              "  '8_1/Actor_02_01-01-08-02-01-01-02.npy'],\n",
              " ['8/Actor_01_01-01-08-02-02-02-01.avi',\n",
              "  '8_1/Actor_01_01-01-08-02-02-02-01.npy'],\n",
              " ['8/Actor_02_02-01-08-02-02-01-02.avi',\n",
              "  '8_1/Actor_02_02-01-08-02-02-01-02.npy'],\n",
              " ['8/Actor_01_01-01-08-02-01-02-01.avi',\n",
              "  '8_1/Actor_01_01-01-08-02-01-02-01.npy'],\n",
              " ['8/Actor_01_01-01-08-01-02-01-01.avi',\n",
              "  '8_1/Actor_01_01-01-08-01-02-01-01.npy'],\n",
              " ['8/Actor_01_02-01-08-02-02-01-01.avi',\n",
              "  '8_1/Actor_01_02-01-08-02-02-01-01.npy'],\n",
              " ['8/Actor_01_02-01-08-02-02-02-01.avi',\n",
              "  '8_1/Actor_01_02-01-08-02-02-02-01.npy'],\n",
              " ['8/Actor_01_01-01-08-01-02-02-01.avi',\n",
              "  '8_1/Actor_01_01-01-08-01-02-02-01.npy'],\n",
              " ['8/Actor_01_02-01-08-02-01-01-01.avi',\n",
              "  '8_1/Actor_01_02-01-08-02-01-01-01.npy'],\n",
              " ['8/Actor_01_01-01-08-02-01-01-01.avi',\n",
              "  '8_1/Actor_01_01-01-08-02-01-01-01.npy'],\n",
              " ['8/Actor_01_02-01-08-01-01-02-01.avi',\n",
              "  '8_1/Actor_01_02-01-08-01-01-02-01.npy'],\n",
              " ['8/Actor_02_01-01-08-01-01-02-02.avi',\n",
              "  '8_1/Actor_02_01-01-08-01-01-02-02.npy'],\n",
              " ['8/Actor_01_02-01-08-02-01-02-01.avi',\n",
              "  '8_1/Actor_01_02-01-08-02-01-02-01.npy'],\n",
              " ['8/Actor_01_01-01-08-01-01-02-01.avi',\n",
              "  '8_1/Actor_01_01-01-08-01-01-02-01.npy'],\n",
              " ['8/Actor_01_02-01-08-01-02-02-01.avi',\n",
              "  '8_1/Actor_01_02-01-08-01-02-02-01.npy'],\n",
              " ['8/Actor_01_02-01-08-01-02-01-01.avi',\n",
              "  '8_1/Actor_01_02-01-08-01-02-01-01.npy'],\n",
              " ['8/Actor_01_01-01-08-01-01-01-01.avi',\n",
              "  '8_1/Actor_01_01-01-08-01-01-01-01.npy'],\n",
              " ['8/Actor_01_01-01-08-02-02-01-01.avi',\n",
              "  '8_1/Actor_01_01-01-08-02-02-01-01.npy'],\n",
              " ['8/Actor_01_02-01-08-01-01-01-01.avi',\n",
              "  '8_1/Actor_01_02-01-08-01-01-01-01.npy'],\n",
              " ['8/Actor_02_02-01-08-02-01-01-02.avi',\n",
              "  '8_1/Actor_02_02-01-08-02-01-01-02.npy'],\n",
              " ['8/Actor_02_01-01-08-02-01-02-02.avi',\n",
              "  '8_1/Actor_02_01-01-08-02-01-02-02.npy'],\n",
              " ['8/Actor_02_01-01-08-02-02-02-02.avi',\n",
              "  '8_1/Actor_02_01-01-08-02-02-02-02.npy']]"
            ]
          },
          "metadata": {
            "tags": []
          },
          "execution_count": 91
        }
      ]
    },
    {
      "cell_type": "code",
      "metadata": {
        "id": "8kfuKr2KThAT"
      },
      "source": [
        "import csv\n",
        "# open the file in the write mode\n",
        "f = open('csv_file.csv', 'w')\n",
        "# create the csv writer\n",
        "writer = csv.writer(f)\n",
        "# write a row to the csv file\n",
        "writer.writerows(csv_arr)\n",
        "# close the file\n",
        "f.close()"
      ],
      "execution_count": null,
      "outputs": []
    },
    {
      "cell_type": "code",
      "metadata": {
        "colab": {
          "resources": {
            "http://localhost:8080/nbextensions/google.colab/files.js": {
              "data": "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",
              "ok": true,
              "headers": [
                [
                  "content-type",
                  "application/javascript"
                ]
              ],
              "status": 200,
              "status_text": ""
            }
          },
          "base_uri": "https://localhost:8080/",
          "height": 73
        },
        "id": "0SYoP4u91J2Y",
        "outputId": "1b545a46-56d1-4b4f-92df-4478746e63ed"
      },
      "source": [
        "u=files.upload()"
      ],
      "execution_count": null,
      "outputs": [
        {
          "output_type": "display_data",
          "data": {
            "text/html": [
              "\n",
              "     <input type=\"file\" id=\"files-480eee82-1bb6-46ef-bb6a-989530162fbe\" name=\"files[]\" multiple disabled\n",
              "        style=\"border:none\" />\n",
              "     <output id=\"result-480eee82-1bb6-46ef-bb6a-989530162fbe\">\n",
              "      Upload widget is only available when the cell has been executed in the\n",
              "      current browser session. Please rerun this cell to enable.\n",
              "      </output>\n",
              "      <script src=\"/nbextensions/google.colab/files.js\"></script> "
            ],
            "text/plain": [
              "<IPython.core.display.HTML object>"
            ]
          },
          "metadata": {
            "tags": []
          }
        },
        {
          "output_type": "stream",
          "text": [
            "Saving video_feature_extractor-master.zip to video_feature_extractor-master.zip\n"
          ],
          "name": "stdout"
        }
      ]
    },
    {
      "cell_type": "code",
      "metadata": {
        "id": "ROKVJ6LQ1c7b"
      },
      "source": [
        "!unzip video_feature_extractor-master.zip"
      ],
      "execution_count": null,
      "outputs": []
    },
    {
      "cell_type": "code",
      "metadata": {
        "colab": {
          "base_uri": "https://localhost:8080/"
        },
        "id": "35ThJXuv2YIx",
        "outputId": "1ae60cd7-b2eb-4a68-a45b-2a4bc29c2878"
      },
      "source": [
        "ls"
      ],
      "execution_count": null,
      "outputs": [
        {
          "output_type": "stream",
          "text": [
            "\u001b[0m\u001b[01;34m1\u001b[0m/    \u001b[01;34m6_1\u001b[0m/          outpy.avi\n",
            "\u001b[01;34m1_1\u001b[0m/  \u001b[01;34m7\u001b[0m/            preprocessing.py\n",
            "\u001b[01;34m2\u001b[0m/    \u001b[01;34m7_1\u001b[0m/          random_sequence_shuffler.py\n",
            "\u001b[01;34m2_1\u001b[0m/  \u001b[01;34m8\u001b[0m/            README.md\n",
            "\u001b[01;34m3\u001b[0m/    \u001b[01;34m8_1\u001b[0m/          \u001b[01;34msample_data\u001b[0m/\n",
            "\u001b[01;34m3_1\u001b[0m/  \u001b[01;34maudio-video\u001b[0m/  try.JPG\n",
            "\u001b[01;34m4\u001b[0m/    csv_file.csv  \u001b[01;34mvideocnn\u001b[0m/\n",
            "\u001b[01;34m4_1\u001b[0m/  \u001b[01;34mdrive\u001b[0m/        \u001b[01;34mvideo_feature_extractor-master\u001b[0m/\n",
            "\u001b[01;34m5\u001b[0m/    extract.py    video_feature_extractor-master.zip\n",
            "\u001b[01;34m5_1\u001b[0m/  LICENSE       video_loader.py\n",
            "\u001b[01;34m6\u001b[0m/    model.py      \u001b[01;34mzipfiles\u001b[0m/\n"
          ],
          "name": "stdout"
        }
      ]
    },
    {
      "cell_type": "code",
      "metadata": {
        "id": "sLiClKUE18t7"
      },
      "source": [
        "# for i in os.listdir('video_feature_extractor-master/'):\n",
        "#     shutil.move('video_feature_extractor-master/'+i,i)"
      ],
      "execution_count": null,
      "outputs": []
    },
    {
      "cell_type": "code",
      "metadata": {
        "id": "Vxj3lJWv1-9m"
      },
      "source": [
        "# os.remove('video_feature_extractor-master.zip')"
      ],
      "execution_count": null,
      "outputs": []
    },
    {
      "cell_type": "code",
      "metadata": {
        "colab": {
          "base_uri": "https://localhost:8080/"
        },
        "id": "zOEFmed53dRm",
        "outputId": "a6ff9db7-0ef2-4867-e397-0fd87dc8135d"
      },
      "source": [
        "!pip install ffmpeg"
      ],
      "execution_count": null,
      "outputs": [
        {
          "output_type": "stream",
          "text": [
            "Collecting ffmpeg\n",
            "  Downloading ffmpeg-1.4.tar.gz (5.1 kB)\n",
            "Building wheels for collected packages: ffmpeg\n",
            "  Building wheel for ffmpeg (setup.py) ... \u001b[?25l\u001b[?25hdone\n",
            "  Created wheel for ffmpeg: filename=ffmpeg-1.4-py3-none-any.whl size=6083 sha256=c5f79ae4ee12c901216c424620271f0480f9d9fa8e1e69ea40943a4eaee1f3d4\n",
            "  Stored in directory: /root/.cache/pip/wheels/64/80/6e/caa3e16deb0267c3cbfd36862058a724144e19fdb9eb03af0f\n",
            "Successfully built ffmpeg\n",
            "Installing collected packages: ffmpeg\n",
            "Successfully installed ffmpeg-1.4\n"
          ],
          "name": "stdout"
        }
      ]
    },
    {
      "cell_type": "code",
      "metadata": {
        "colab": {
          "base_uri": "https://localhost:8080/"
        },
        "id": "Z_Gc3c7J29I6",
        "outputId": "2229fff1-6c45-4c2f-dafd-0b647ad32be1"
      },
      "source": [
        "!sudo apt install ffmpeg"
      ],
      "execution_count": null,
      "outputs": [
        {
          "output_type": "stream",
          "text": [
            "Reading package lists... Done\n",
            "Building dependency tree       \n",
            "Reading state information... Done\n",
            "ffmpeg is already the newest version (7:3.4.8-0ubuntu0.2).\n",
            "0 upgraded, 0 newly installed, 0 to remove and 40 not upgraded.\n"
          ],
          "name": "stdout"
        }
      ]
    },
    {
      "cell_type": "code",
      "metadata": {
        "colab": {
          "base_uri": "https://localhost:8080/"
        },
        "id": "dkXxDhaF4GTj",
        "outputId": "84f3957b-b26f-46fd-b60a-d86330a83d51"
      },
      "source": [
        "!mkdir model\n",
        "!cd model\n",
        "!wget https://www.rocq.inria.fr/cluster-willow/amiech/howto100m/models/resnext101.pth"
      ],
      "execution_count": null,
      "outputs": [
        {
          "output_type": "stream",
          "text": [
            "--2021-08-15 12:54:18--  https://www.rocq.inria.fr/cluster-willow/amiech/howto100m/models/resnext101.pth\n",
            "Resolving www.rocq.inria.fr (www.rocq.inria.fr)... 128.93.96.7\n",
            "Connecting to www.rocq.inria.fr (www.rocq.inria.fr)|128.93.96.7|:443... connected.\n",
            "HTTP request sent, awaiting response... 200 OK\n",
            "Length: 194020261 (185M)\n",
            "Saving to: ‘resnext101.pth’\n",
            "\n",
            "resnext101.pth      100%[===================>] 185.03M  1.76MB/s    in 45s     \n",
            "\n",
            "2021-08-15 12:55:05 (4.10 MB/s) - ‘resnext101.pth’ saved [194020261/194020261]\n",
            "\n"
          ],
          "name": "stdout"
        }
      ]
    },
    {
      "cell_type": "code",
      "metadata": {
        "colab": {
          "base_uri": "https://localhost:8080/"
        },
        "id": "7G1R6j6s49NZ",
        "outputId": "c626ab97-e4fd-4047-d288-348639f2bb3f"
      },
      "source": [
        "#shutil.move('resnext101.pth','model/resnext101.pth')\n",
        "os.listdir('model')"
      ],
      "execution_count": null,
      "outputs": [
        {
          "output_type": "execute_result",
          "data": {
            "text/plain": [
              "['resnext101.pth']"
            ]
          },
          "metadata": {
            "tags": []
          },
          "execution_count": 82
        }
      ]
    },
    {
      "cell_type": "code",
      "metadata": {
        "colab": {
          "base_uri": "https://localhost:8080/"
        },
        "id": "kFqRO6fs4URK",
        "outputId": "687f1b20-ff27-4bb2-d2fd-fe54df23fde7"
      },
      "source": [
        "ls"
      ],
      "execution_count": null,
      "outputs": [
        {
          "output_type": "stream",
          "text": [
            "\u001b[0m\u001b[01;34m1\u001b[0m/    \u001b[01;34m4_1\u001b[0m/  \u001b[01;34m8\u001b[0m/            \u001b[01;34mmodel\u001b[0m/                       resnext101.pth\n",
            "\u001b[01;34m1_1\u001b[0m/  \u001b[01;34m5\u001b[0m/    \u001b[01;34m8_1\u001b[0m/          model.py                     \u001b[01;34msample_data\u001b[0m/\n",
            "\u001b[01;34m2\u001b[0m/    \u001b[01;34m5_1\u001b[0m/  \u001b[01;34maudio-video\u001b[0m/  outpy.avi                    try.JPG\n",
            "\u001b[01;34m2_1\u001b[0m/  \u001b[01;34m6\u001b[0m/    csv_file.csv  preprocessing.py             \u001b[01;34mvideocnn\u001b[0m/\n",
            "\u001b[01;34m3\u001b[0m/    \u001b[01;34m6_1\u001b[0m/  \u001b[01;34mdrive\u001b[0m/        \u001b[01;34m__pycache__\u001b[0m/                 video_loader.py\n",
            "\u001b[01;34m3_1\u001b[0m/  \u001b[01;34m7\u001b[0m/    extract.py    random_sequence_shuffler.py  \u001b[01;34mzipfiles\u001b[0m/\n",
            "\u001b[01;34m4\u001b[0m/    \u001b[01;34m7_1\u001b[0m/  LICENSE       README.md\n"
          ],
          "name": "stdout"
        }
      ]
    },
    {
      "cell_type": "code",
      "metadata": {
        "id": "jfzPrHpd86mk"
      },
      "source": [
        "os.listdir('1')[0]"
      ],
      "execution_count": null,
      "outputs": []
    },
    {
      "cell_type": "code",
      "metadata": {
        "colab": {
          "base_uri": "https://localhost:8080/",
          "height": 17
        },
        "id": "l0MgAYJK803l",
        "outputId": "eb8533f7-e5f6-442f-aadd-360730f21829"
      },
      "source": [
        "files.download('1/'+os.listdir('1')[2])"
      ],
      "execution_count": null,
      "outputs": [
        {
          "output_type": "display_data",
          "data": {
            "application/javascript": [
              "\n",
              "    async function download(id, filename, size) {\n",
              "      if (!google.colab.kernel.accessAllowed) {\n",
              "        return;\n",
              "      }\n",
              "      const div = document.createElement('div');\n",
              "      const label = document.createElement('label');\n",
              "      label.textContent = `Downloading \"${filename}\": `;\n",
              "      div.appendChild(label);\n",
              "      const progress = document.createElement('progress');\n",
              "      progress.max = size;\n",
              "      div.appendChild(progress);\n",
              "      document.body.appendChild(div);\n",
              "\n",
              "      const buffers = [];\n",
              "      let downloaded = 0;\n",
              "\n",
              "      const channel = await google.colab.kernel.comms.open(id);\n",
              "      // Send a message to notify the kernel that we're ready.\n",
              "      channel.send({})\n",
              "\n",
              "      for await (const message of channel.messages) {\n",
              "        // Send a message to notify the kernel that we're ready.\n",
              "        channel.send({})\n",
              "        if (message.buffers) {\n",
              "          for (const buffer of message.buffers) {\n",
              "            buffers.push(buffer);\n",
              "            downloaded += buffer.byteLength;\n",
              "            progress.value = downloaded;\n",
              "          }\n",
              "        }\n",
              "      }\n",
              "      const blob = new Blob(buffers, {type: 'application/binary'});\n",
              "      const a = document.createElement('a');\n",
              "      a.href = window.URL.createObjectURL(blob);\n",
              "      a.download = filename;\n",
              "      div.appendChild(a);\n",
              "      a.click();\n",
              "      div.remove();\n",
              "    }\n",
              "  "
            ],
            "text/plain": [
              "<IPython.core.display.Javascript object>"
            ]
          },
          "metadata": {
            "tags": []
          }
        },
        {
          "output_type": "display_data",
          "data": {
            "application/javascript": [
              "download(\"download_6095c5de-12fb-4b03-9b22-4f8d09a7a228\", \"Actor_01_01-01-01-01-01-02-01.avi\", 292364)"
            ],
            "text/plain": [
              "<IPython.core.display.Javascript object>"
            ]
          },
          "metadata": {
            "tags": []
          }
        }
      ]
    },
    {
      "cell_type": "code",
      "metadata": {
        "id": "8FIEnQc32j_D"
      },
      "source": [
        "!python extract.py --csv=csv_file.csv --type=3d --batch_size=64 --num_decoding_thread=1"
      ],
      "execution_count": null,
      "outputs": []
    },
    {
      "cell_type": "code",
      "metadata": {
        "colab": {
          "base_uri": "https://localhost:8080/"
        },
        "id": "_LXfGZ7r260v",
        "outputId": "ee989746-90b6-4208-97e6-b60a7e6461b5"
      },
      "source": [
        "os.listdir('1_1')"
      ],
      "execution_count": null,
      "outputs": [
        {
          "output_type": "execute_result",
          "data": {
            "text/plain": [
              "[]"
            ]
          },
          "metadata": {
            "tags": []
          },
          "execution_count": 85
        }
      ]
    },
    {
      "cell_type": "code",
      "metadata": {
        "id": "p2NO8c-v5euE"
      },
      "source": [
        ""
      ],
      "execution_count": null,
      "outputs": []
    }
  ]
}