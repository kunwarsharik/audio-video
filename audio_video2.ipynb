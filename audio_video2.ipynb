{
  "nbformat": 4,
  "nbformat_minor": 0,
  "metadata": {
    "colab": {
      "name": "audio_video2.ipynb",
      "provenance": [],
      "collapsed_sections": []
    },
    "kernelspec": {
      "name": "python3",
      "display_name": "Python 3"
    },
    "language_info": {
      "name": "python"
    }
  },
  "cells": [
    {
      "cell_type": "code",
      "metadata": {
        "colab": {
          "base_uri": "https://localhost:8080/"
        },
        "id": "Y7mugNI9rXLP",
        "outputId": "f6142196-3369-49db-eb38-29007a033a98"
      },
      "source": [
        "from google.colab import drive\n",
        "drive.mount(\"/content/drive/\")"
      ],
      "execution_count": null,
      "outputs": [
        {
          "output_type": "stream",
          "text": [
            "Mounted at /content/drive/\n"
          ],
          "name": "stdout"
        }
      ]
    },
    {
      "cell_type": "code",
      "metadata": {
        "id": "1JUIJ3tL1WBb"
      },
      "source": [
        "!wget https://storage.googleapis.com/kaggle-data-sets/107620/256618/bundle/archive.zip"
      ],
      "execution_count": null,
      "outputs": []
    },
    {
      "cell_type": "code",
      "metadata": {
        "id": "nGifY9Z-rcHy"
      },
      "source": [
        "import os, shutil, numpy as np, cv2,zipfile\n",
        "import subprocess\n",
        "from google.colab import files\n",
        "from IPython.display import Audio\n",
        "import librosa\n",
        "import matplotlib.pyplot as plt \n",
        "from matplotlib.backends.backend_agg import FigureCanvasAgg as FigureCanvas\n",
        "from tensorflow.keras.utils import to_categorical\n",
        "from tensorflow.keras.applications.resnet50 import ResNet50\n",
        "from tensorflow.keras.preprocessing import image\n",
        "from tensorflow.keras.models import Model\n",
        "from tensorflow.keras.layers import Dense, GlobalAveragePooling2D, Flatten\n",
        "from tensorflow.keras.layers import Input, Dropout\n",
        "from tensorflow.keras.optimizers import Adam,SGD\n",
        "import tensorflow"
      ],
      "execution_count": null,
      "outputs": []
    },
    {
      "cell_type": "code",
      "metadata": {
        "id": "oDA6KkmgZ0tD"
      },
      "source": [
        "from tensorflow.keras import Sequential"
      ],
      "execution_count": null,
      "outputs": []
    },
    {
      "cell_type": "code",
      "metadata": {
        "id": "80k49LijZ_xU"
      },
      "source": [
        "from tensorflow.keras import layers "
      ],
      "execution_count": null,
      "outputs": []
    },
    {
      "cell_type": "code",
      "metadata": {
        "colab": {
          "resources": {
            "http://localhost:8080/nbextensions/google.colab/files.js": {
              "data": "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",
              "ok": true,
              "headers": [
                [
                  "content-type",
                  "application/javascript"
                ]
              ],
              "status": 200,
              "status_text": ""
            }
          },
          "base_uri": "https://localhost:8080/",
          "height": 73
        },
        "id": "0L0kyzbJ2S5w",
        "outputId": "fac4cf2c-2a00-49aa-b177-c47ce143ffc7"
      },
      "source": [
        "u=files.upload()"
      ],
      "execution_count": null,
      "outputs": [
        {
          "output_type": "display_data",
          "data": {
            "text/html": [
              "\n",
              "     <input type=\"file\" id=\"files-75e9cd93-1439-446b-8e20-3d628f07a4e0\" name=\"files[]\" multiple disabled\n",
              "        style=\"border:none\" />\n",
              "     <output id=\"result-75e9cd93-1439-446b-8e20-3d628f07a4e0\">\n",
              "      Upload widget is only available when the cell has been executed in the\n",
              "      current browser session. Please rerun this cell to enable.\n",
              "      </output>\n",
              "      <script src=\"/nbextensions/google.colab/files.js\"></script> "
            ],
            "text/plain": [
              "<IPython.core.display.HTML object>"
            ]
          },
          "metadata": {
            "tags": []
          }
        },
        {
          "output_type": "stream",
          "text": [
            "Saving kaggle.json to kaggle.json\n"
          ],
          "name": "stdout"
        }
      ]
    },
    {
      "cell_type": "code",
      "metadata": {
        "colab": {
          "base_uri": "https://localhost:8080/"
        },
        "id": "bHUBlgGR2bGe",
        "outputId": "15249334-4ef2-426c-d10c-94556143e596"
      },
      "source": [
        "! pip install kaggle\n",
        "! mkdir ~/.kaggle\n",
        "! cp kaggle.json ~/.kaggle/\n",
        "! chmod 600 ~/.kaggle/kaggle.json"
      ],
      "execution_count": null,
      "outputs": [
        {
          "output_type": "stream",
          "text": [
            "Requirement already satisfied: kaggle in /usr/local/lib/python3.7/dist-packages (1.5.12)\n",
            "Requirement already satisfied: requests in /usr/local/lib/python3.7/dist-packages (from kaggle) (2.23.0)\n",
            "Requirement already satisfied: urllib3 in /usr/local/lib/python3.7/dist-packages (from kaggle) (1.24.3)\n",
            "Requirement already satisfied: python-slugify in /usr/local/lib/python3.7/dist-packages (from kaggle) (5.0.2)\n",
            "Requirement already satisfied: six>=1.10 in /usr/local/lib/python3.7/dist-packages (from kaggle) (1.15.0)\n",
            "Requirement already satisfied: certifi in /usr/local/lib/python3.7/dist-packages (from kaggle) (2021.5.30)\n",
            "Requirement already satisfied: python-dateutil in /usr/local/lib/python3.7/dist-packages (from kaggle) (2.8.2)\n",
            "Requirement already satisfied: tqdm in /usr/local/lib/python3.7/dist-packages (from kaggle) (4.62.0)\n",
            "Requirement already satisfied: text-unidecode>=1.3 in /usr/local/lib/python3.7/dist-packages (from python-slugify->kaggle) (1.3)\n",
            "Requirement already satisfied: idna<3,>=2.5 in /usr/local/lib/python3.7/dist-packages (from requests->kaggle) (2.10)\n",
            "Requirement already satisfied: chardet<4,>=3.0.2 in /usr/local/lib/python3.7/dist-packages (from requests->kaggle) (3.0.4)\n"
          ],
          "name": "stdout"
        }
      ]
    },
    {
      "cell_type": "code",
      "metadata": {
        "colab": {
          "base_uri": "https://localhost:8080/"
        },
        "id": "IRBpM1Tq1oRI",
        "outputId": "c97de40b-1166-4574-bacd-d6bcc52cccb5"
      },
      "source": [
        "!kaggle datasets download -d uwrfkaggler/ravdess-emotional-speech-audio"
      ],
      "execution_count": null,
      "outputs": [
        {
          "output_type": "stream",
          "text": [
            "Downloading ravdess-emotional-speech-audio.zip to /content\n",
            " 98% 419M/429M [00:07<00:00, 50.2MB/s]\n",
            "100% 429M/429M [00:07<00:00, 63.1MB/s]\n"
          ],
          "name": "stdout"
        }
      ]
    },
    {
      "cell_type": "code",
      "metadata": {
        "colab": {
          "base_uri": "https://localhost:8080/"
        },
        "id": "lbkmlnRa2meJ",
        "outputId": "fe31b75c-8e85-42f6-af9f-c59401ea5e19"
      },
      "source": [
        "ls"
      ],
      "execution_count": null,
      "outputs": [
        {
          "output_type": "stream",
          "text": [
            "\u001b[0m\u001b[01;34mdrive\u001b[0m/  kaggle.json  ravdess-emotional-speech-audio.zip  \u001b[01;34msample_data\u001b[0m/\n"
          ],
          "name": "stdout"
        }
      ]
    },
    {
      "cell_type": "code",
      "metadata": {
        "id": "hYTKJ4NU23dF"
      },
      "source": [
        "!unzip './drive/My Drive/ravdess-emotional-speech-audio.zip'"
      ],
      "execution_count": null,
      "outputs": []
    },
    {
      "cell_type": "code",
      "metadata": {
        "colab": {
          "base_uri": "https://localhost:8080/"
        },
        "id": "1qEBt_M-3mUB",
        "outputId": "6a35e521-e15b-4966-da67-4e6af66ef9d2"
      },
      "source": [
        "ls"
      ],
      "execution_count": null,
      "outputs": [
        {
          "output_type": "stream",
          "text": [
            "\u001b[0m\u001b[01;34mActor_01\u001b[0m/  \u001b[01;34mActor_07\u001b[0m/  \u001b[01;34mActor_13\u001b[0m/  \u001b[01;34mActor_19\u001b[0m/  \u001b[01;34maudio_speech_actors_01-24\u001b[0m/\n",
            "\u001b[01;34mActor_02\u001b[0m/  \u001b[01;34mActor_08\u001b[0m/  \u001b[01;34mActor_14\u001b[0m/  \u001b[01;34mActor_20\u001b[0m/  \u001b[01;34mdrive\u001b[0m/\n",
            "\u001b[01;34mActor_03\u001b[0m/  \u001b[01;34mActor_09\u001b[0m/  \u001b[01;34mActor_15\u001b[0m/  \u001b[01;34mActor_21\u001b[0m/  kaggle.json\n",
            "\u001b[01;34mActor_04\u001b[0m/  \u001b[01;34mActor_10\u001b[0m/  \u001b[01;34mActor_16\u001b[0m/  \u001b[01;34mActor_22\u001b[0m/  ravdess-emotional-speech-audio.zip\n",
            "\u001b[01;34mActor_05\u001b[0m/  \u001b[01;34mActor_11\u001b[0m/  \u001b[01;34mActor_17\u001b[0m/  \u001b[01;34mActor_23\u001b[0m/  \u001b[01;34msample_data\u001b[0m/\n",
            "\u001b[01;34mActor_06\u001b[0m/  \u001b[01;34mActor_12\u001b[0m/  \u001b[01;34mActor_18\u001b[0m/  \u001b[01;34mActor_24\u001b[0m/\n"
          ],
          "name": "stdout"
        }
      ]
    },
    {
      "cell_type": "code",
      "metadata": {
        "colab": {
          "base_uri": "https://localhost:8080/"
        },
        "id": "FS7OvsNarhQ3",
        "outputId": "321cffb6-58de-4770-d3ec-0476fbcffec4"
      },
      "source": [
        "base_model = ResNet50(weights='imagenet', include_top=True)"
      ],
      "execution_count": null,
      "outputs": [
        {
          "output_type": "stream",
          "text": [
            "Downloading data from https://storage.googleapis.com/tensorflow/keras-applications/resnet/resnet50_weights_tf_dim_ordering_tf_kernels.h5\n",
            "102973440/102967424 [==============================] - 1s 0us/step\n"
          ],
          "name": "stdout"
        }
      ]
    },
    {
      "cell_type": "code",
      "metadata": {
        "id": "4vDvMoNA5xW7"
      },
      "source": [
        "for i in range(1,9):\n",
        "    os.mkdir(str(i))"
      ],
      "execution_count": null,
      "outputs": []
    },
    {
      "cell_type": "code",
      "metadata": {
        "id": "XokwYOxm4c82"
      },
      "source": [
        "for act in range(1,21):\n",
        "    for i in os.listdir('Actor_'+str(act).zfill(2)+'/'):\n",
        "        \n",
        "        doc_name=i\n",
        "        n=doc_name.split('.wav')\n",
        "        w=int(n[0].split('-')[0])#01 = full-AV, 02 = video-only, 03 = audio-only\n",
        "        labz=int(n[0].split('-')[2])#01 = neutral, 02 = calm, 03 = happy, 04 = sad, 05 = angry, 06 = fearful, 07 = disgust, 08 = surprised\n",
        "              \n",
        "        shutil.move('Actor_'+str(act).zfill(2)+'/'+i,str(labz)+'/Actor_'+str(act).zfill(2)+'_'+i)"
      ],
      "execution_count": null,
      "outputs": []
    },
    {
      "cell_type": "code",
      "metadata": {
        "id": "SN8ty93D5caX"
      },
      "source": [
        "n,w,labz"
      ],
      "execution_count": null,
      "outputs": []
    },
    {
      "cell_type": "code",
      "metadata": {
        "colab": {
          "base_uri": "https://localhost:8080/"
        },
        "id": "BdxQIrjrJFbR",
        "outputId": "48c78dbf-4b81-4c5f-b15d-864423501546"
      },
      "source": [
        "ls"
      ],
      "execution_count": null,
      "outputs": [
        {
          "output_type": "stream",
          "text": [
            "\u001b[0m\u001b[01;34m1\u001b[0m/  \u001b[01;34mActor_01\u001b[0m/  \u001b[01;34mActor_09\u001b[0m/  \u001b[01;34mActor_17\u001b[0m/  \u001b[01;34maudio_speech_actors_01-24\u001b[0m/\n",
            "\u001b[01;34m2\u001b[0m/  \u001b[01;34mActor_02\u001b[0m/  \u001b[01;34mActor_10\u001b[0m/  \u001b[01;34mActor_18\u001b[0m/  \u001b[01;34mdrive\u001b[0m/\n",
            "\u001b[01;34m3\u001b[0m/  \u001b[01;34mActor_03\u001b[0m/  \u001b[01;34mActor_11\u001b[0m/  \u001b[01;34mActor_19\u001b[0m/  kaggle.json\n",
            "\u001b[01;34m4\u001b[0m/  \u001b[01;34mActor_04\u001b[0m/  \u001b[01;34mActor_12\u001b[0m/  \u001b[01;34mActor_20\u001b[0m/  ravdess-emotional-speech-audio.zip\n",
            "\u001b[01;34m5\u001b[0m/  \u001b[01;34mActor_05\u001b[0m/  \u001b[01;34mActor_13\u001b[0m/  \u001b[01;34mActor_21\u001b[0m/  \u001b[01;34msample_data\u001b[0m/\n",
            "\u001b[01;34m6\u001b[0m/  \u001b[01;34mActor_06\u001b[0m/  \u001b[01;34mActor_14\u001b[0m/  \u001b[01;34mActor_22\u001b[0m/\n",
            "\u001b[01;34m7\u001b[0m/  \u001b[01;34mActor_07\u001b[0m/  \u001b[01;34mActor_15\u001b[0m/  \u001b[01;34mActor_23\u001b[0m/\n",
            "\u001b[01;34m8\u001b[0m/  \u001b[01;34mActor_08\u001b[0m/  \u001b[01;34mActor_16\u001b[0m/  \u001b[01;34mActor_24\u001b[0m/\n"
          ],
          "name": "stdout"
        }
      ]
    },
    {
      "cell_type": "code",
      "metadata": {
        "id": "NswSXO2uI-vD"
      },
      "source": [
        "arr2,lab2=[],[]\n",
        "for i in range(1,9):\n",
        "    #arr=[]\n",
        "    for j in os.listdir(str(i)):\n",
        "        x,sr=librosa.load(str(i)+'/'+j, sr=44100)\n",
        "        x2=librosa.to_mono(x)\n",
        "        diff=44100*4-x2.shape[0]\n",
        "        \n",
        "        if diff>0:\n",
        "            x2=np.concatenate((np.zeros(diff)+0.0000002,x2),axis=0)\n",
        "        if diff<0:\n",
        "            diff= abs(diff)\n",
        "            if diff%2==0:\n",
        "                x2=np.array(x2[int(diff/2):x2.shape[0]-int(diff/2)])\n",
        "            if diff%2==1:\n",
        "                x2=np.array(x2[int(diff/2)+1:x2.shape[0]-int(diff/2)])\n",
        "        arr2.append(librosa.feature.mfcc(x2, sr=44100, n_mfcc=20))\n",
        "        #arr1.append(librosa.feature.mfcc(x2, sr=22050, n_mfcc=44))\n",
        "        lab2.append(i)"
      ],
      "execution_count": null,
      "outputs": []
    },
    {
      "cell_type": "code",
      "metadata": {
        "id": "V17HZwmNr6nI"
      },
      "source": [
        "arr1,lab=[],[]\n",
        "for i in range(1,9):\n",
        "    #arr=[]\n",
        "    for j in os.listdir('./drive/My Drive/'+str(i)):\n",
        "        \n",
        "        x,sr=librosa.load('./drive/My Drive/'+str(i)+'/'+j, sr=44100)\n",
        "\n",
        "        x2=librosa.to_mono(x)\n",
        "        diff=44100*4-x2.shape[0]\n",
        "        \n",
        "        if diff>0:\n",
        "            x2=np.concatenate((np.zeros(diff)+0.0000002,x2),axis=0)\n",
        "        if diff<0:\n",
        "            diff=abs(diff)\n",
        "            if diff%2==0:\n",
        "                x2=np.array(x2[int(diff/2):x2.shape[0]-int(diff/2)])\n",
        "            if diff%2==1:\n",
        "                x2=np.array(x2[int(diff/2)+1:x2.shape[0]-int(diff/2)])\n",
        "        \n",
        "        arr1.append(librosa.feature.mfcc(x2, sr=44100, n_mfcc=20))\n",
        "        #arr1.append(librosa.feature.mfcc(x2, sr=22050, n_mfcc=44))\n",
        "        lab.append(i)"
      ],
      "execution_count": null,
      "outputs": []
    },
    {
      "cell_type": "code",
      "metadata": {
        "id": "uaR_884kO7IW"
      },
      "source": [
        "arr1shapes=[]\n",
        "for i in arr1:\n",
        "    if i.shape not in arr1shapes:\n",
        "        arr1shapes.append(i.shape)"
      ],
      "execution_count": null,
      "outputs": []
    },
    {
      "cell_type": "code",
      "metadata": {
        "id": "meHciHidQ_9j"
      },
      "source": [
        "arr1shapes=[]\n",
        "for i in range(1,9):\n",
        "    #arr=[]\n",
        "    for j in os.listdir('./drive/My Drive/'+str(i)):\n",
        "        \n",
        "        x,sr=librosa.load('./drive/My Drive/'+str(i)+'/'+j, sr=44100)\n",
        "        \n",
        "        x2=librosa.to_mono(x)\n",
        "        if x2.shape not in arr1shapes:\n",
        "            arr1shapes.append(x2.shape)\n",
        "        #diff=44100*4-x2.shape[0]"
      ],
      "execution_count": null,
      "outputs": []
    },
    {
      "cell_type": "code",
      "metadata": {
        "id": "EN-a8kpbPPZb"
      },
      "source": [
        "arr1shapes"
      ],
      "execution_count": null,
      "outputs": []
    },
    {
      "cell_type": "code",
      "metadata": {
        "colab": {
          "base_uri": "https://localhost:8080/"
        },
        "id": "JPuxKg3yOfqt",
        "outputId": "44cb045b-bd60-45f4-d80f-8f7e442c1652"
      },
      "source": [
        "arr1= np.array(arr1)\n",
        "lab=np.array(lab)\n",
        "arr1.shape, lab.shape"
      ],
      "execution_count": null,
      "outputs": [
        {
          "output_type": "execute_result",
          "data": {
            "text/plain": [
              "((1200, 20, 345), (1200,))"
            ]
          },
          "metadata": {
            "tags": []
          },
          "execution_count": 64
        }
      ]
    },
    {
      "cell_type": "code",
      "metadata": {
        "colab": {
          "base_uri": "https://localhost:8080/"
        },
        "id": "EVY48fRVYSOv",
        "outputId": "5e2b8031-5b22-4b60-81af-9175ec2ba7a9"
      },
      "source": [
        "arr2= np.array(arr2)\n",
        "lab2=np.array(lab2)\n",
        "arr2.shape, lab2.shape"
      ],
      "execution_count": null,
      "outputs": [
        {
          "output_type": "execute_result",
          "data": {
            "text/plain": [
              "((1200, 20, 345), (1200,))"
            ]
          },
          "metadata": {
            "tags": []
          },
          "execution_count": 66
        }
      ]
    },
    {
      "cell_type": "code",
      "metadata": {
        "colab": {
          "base_uri": "https://localhost:8080/"
        },
        "id": "afYZKKSMYy9s",
        "outputId": "cec7764d-2151-4849-b62d-3fddd2d8390a"
      },
      "source": [
        "lab2"
      ],
      "execution_count": null,
      "outputs": [
        {
          "output_type": "execute_result",
          "data": {
            "text/plain": [
              "array([1, 1, 1, ..., 8, 8, 8])"
            ]
          },
          "metadata": {
            "tags": []
          },
          "execution_count": 69
        }
      ]
    },
    {
      "cell_type": "code",
      "metadata": {
        "id": "lCea6RIbN4C-"
      },
      "source": [
        "data= np.concatenate((arr1,arr2),axis=0)\n",
        "label=np.concatenate((lab,lab2),axis=0)"
      ],
      "execution_count": null,
      "outputs": []
    },
    {
      "cell_type": "code",
      "metadata": {
        "colab": {
          "base_uri": "https://localhost:8080/"
        },
        "id": "1pzJ-BIv0oWW",
        "outputId": "abcfc21c-5c54-4de0-8fdd-bded77fecf5a"
      },
      "source": [
        "data.shape, label.shape"
      ],
      "execution_count": null,
      "outputs": [
        {
          "output_type": "execute_result",
          "data": {
            "text/plain": [
              "((2400, 20, 345), (2400,))"
            ]
          },
          "metadata": {
            "tags": []
          },
          "execution_count": 87
        }
      ]
    },
    {
      "cell_type": "code",
      "metadata": {
        "id": "JageSoNGZmGG"
      },
      "source": [
        "data= data.reshape(len(data), 345,20)"
      ],
      "execution_count": null,
      "outputs": []
    },
    {
      "cell_type": "code",
      "metadata": {
        "id": "usPIp2Qsbzp-"
      },
      "source": [
        "from sklearn.utils import shuffle"
      ],
      "execution_count": null,
      "outputs": []
    },
    {
      "cell_type": "code",
      "metadata": {
        "id": "n_yuxzkNb0m9"
      },
      "source": [
        "data,label2 = shuffle(data, label2, random_state=0)"
      ],
      "execution_count": null,
      "outputs": []
    },
    {
      "cell_type": "code",
      "metadata": {
        "id": "iHaKHhUdZTeA"
      },
      "source": [
        "# label= label-1\n",
        "# label2= to_categorical(label)"
      ],
      "execution_count": null,
      "outputs": []
    },
    {
      "cell_type": "code",
      "metadata": {
        "id": "68Y9DK9Ms2bb"
      },
      "source": [
        "# Audio(x2,rate=44100)#'./drive/My Drive/'+str(i)+'/'+j)"
      ],
      "execution_count": null,
      "outputs": []
    },
    {
      "cell_type": "code",
      "metadata": {
        "id": "itYPNc-6dgRC"
      },
      "source": [
        "data"
      ],
      "execution_count": null,
      "outputs": []
    },
    {
      "cell_type": "markdown",
      "metadata": {
        "id": "z3nrOLr-EDOU"
      },
      "source": [
        "Our Model"
      ]
    },
    {
      "cell_type": "code",
      "metadata": {
        "colab": {
          "base_uri": "https://localhost:8080/"
        },
        "id": "BkG0fnShZQzd",
        "outputId": "06aa0977-4ef5-4263-a7ec-5cabda4fef28"
      },
      "source": [
        "model = Sequential()\n",
        "model.add(layers.Conv1D(256, 2,padding='same',input_shape=(345,20)))\n",
        "model.add(layers.Activation('tanh'))\n",
        "\n",
        "model.add(layers.Conv1D(128, 2,padding='same'))\n",
        "model.add(layers.Activation('tanh'))\n",
        "\n",
        "model.add(layers.MaxPooling1D(pool_size=(8)))\n",
        "model.add(layers.Dropout(0.2))\n",
        "\n",
        "model.add(layers.Conv1D(128, 5,padding='same'))\n",
        "model.add(layers.Activation('tanh'))\n",
        "model.add(layers.Conv1D(64, 3,padding='same'))\n",
        "model.add(layers.Activation('tanh'))\n",
        "model.add(layers.MaxPooling1D(pool_size=(2)))\n",
        "model.add(layers.Dropout(0.1))\n",
        "\n",
        "model.add(layers.Flatten())\n",
        "model.add(layers.Dense(128))\n",
        "model.add(layers.Dense(64))\n",
        "model.add(layers.Dense(8))\n",
        "model.add(layers.Activation('softmax'))\n",
        "\n",
        "opt = SGD(learning_rate=1e-3)\n",
        "model.compile(loss='categorical_crossentropy', optimizer=opt, metrics=['accuracy'])\n",
        "model.fit(data,label2, validation_split=0.15,epochs=100)#, batch_size=200)"
      ],
      "execution_count": null,
      "outputs": [
        {
          "output_type": "stream",
          "text": [
            "Epoch 1/100\n",
            "64/64 [==============================] - 9s 133ms/step - loss: 2.2076 - accuracy: 0.1397 - val_loss: 2.0265 - val_accuracy: 0.1833\n",
            "Epoch 2/100\n",
            "64/64 [==============================] - 8s 127ms/step - loss: 2.1528 - accuracy: 0.1525 - val_loss: 2.0261 - val_accuracy: 0.1806\n",
            "Epoch 3/100\n",
            "64/64 [==============================] - 8s 128ms/step - loss: 2.0821 - accuracy: 0.1848 - val_loss: 1.9584 - val_accuracy: 0.2361\n",
            "Epoch 4/100\n",
            "64/64 [==============================] - 8s 127ms/step - loss: 2.0822 - accuracy: 0.1725 - val_loss: 1.9378 - val_accuracy: 0.2194\n",
            "Epoch 5/100\n",
            "64/64 [==============================] - 8s 127ms/step - loss: 2.0688 - accuracy: 0.1873 - val_loss: 1.9491 - val_accuracy: 0.1833\n",
            "Epoch 6/100\n",
            "64/64 [==============================] - 8s 128ms/step - loss: 2.0128 - accuracy: 0.2132 - val_loss: 1.9123 - val_accuracy: 0.2417\n",
            "Epoch 7/100\n",
            "64/64 [==============================] - 8s 127ms/step - loss: 2.0010 - accuracy: 0.2265 - val_loss: 1.8755 - val_accuracy: 0.2583\n",
            "Epoch 8/100\n",
            "64/64 [==============================] - 8s 127ms/step - loss: 2.0035 - accuracy: 0.2191 - val_loss: 1.8419 - val_accuracy: 0.2889\n",
            "Epoch 9/100\n",
            "64/64 [==============================] - 8s 129ms/step - loss: 1.9725 - accuracy: 0.2319 - val_loss: 1.8341 - val_accuracy: 0.2667\n",
            "Epoch 10/100\n",
            "64/64 [==============================] - 8s 128ms/step - loss: 1.9169 - accuracy: 0.2539 - val_loss: 1.7866 - val_accuracy: 0.3278\n",
            "Epoch 11/100\n",
            "64/64 [==============================] - 8s 129ms/step - loss: 1.8906 - accuracy: 0.2740 - val_loss: 1.7770 - val_accuracy: 0.3389\n",
            "Epoch 12/100\n",
            "64/64 [==============================] - 8s 129ms/step - loss: 1.9004 - accuracy: 0.2520 - val_loss: 1.7428 - val_accuracy: 0.3667\n",
            "Epoch 13/100\n",
            "64/64 [==============================] - 8s 129ms/step - loss: 1.8606 - accuracy: 0.2755 - val_loss: 1.7630 - val_accuracy: 0.3194\n",
            "Epoch 14/100\n",
            "64/64 [==============================] - 8s 129ms/step - loss: 1.8105 - accuracy: 0.3186 - val_loss: 1.7233 - val_accuracy: 0.3472\n",
            "Epoch 15/100\n",
            "64/64 [==============================] - 8s 129ms/step - loss: 1.8132 - accuracy: 0.3025 - val_loss: 1.6900 - val_accuracy: 0.3833\n",
            "Epoch 16/100\n",
            "64/64 [==============================] - 8s 129ms/step - loss: 1.7872 - accuracy: 0.3176 - val_loss: 1.6801 - val_accuracy: 0.3722\n",
            "Epoch 17/100\n",
            "64/64 [==============================] - 8s 129ms/step - loss: 1.7759 - accuracy: 0.3211 - val_loss: 1.6500 - val_accuracy: 0.3806\n",
            "Epoch 18/100\n",
            "64/64 [==============================] - 8s 128ms/step - loss: 1.7515 - accuracy: 0.3451 - val_loss: 1.6266 - val_accuracy: 0.4222\n",
            "Epoch 19/100\n",
            "64/64 [==============================] - 8s 128ms/step - loss: 1.7313 - accuracy: 0.3593 - val_loss: 1.6229 - val_accuracy: 0.4167\n",
            "Epoch 20/100\n",
            "64/64 [==============================] - 8s 128ms/step - loss: 1.7026 - accuracy: 0.3647 - val_loss: 1.6168 - val_accuracy: 0.4194\n",
            "Epoch 21/100\n",
            "64/64 [==============================] - 8s 128ms/step - loss: 1.7109 - accuracy: 0.3574 - val_loss: 1.6007 - val_accuracy: 0.4556\n",
            "Epoch 22/100\n",
            "64/64 [==============================] - 8s 127ms/step - loss: 1.6781 - accuracy: 0.3740 - val_loss: 1.5578 - val_accuracy: 0.4639\n",
            "Epoch 23/100\n",
            "64/64 [==============================] - 8s 129ms/step - loss: 1.6483 - accuracy: 0.3931 - val_loss: 1.5409 - val_accuracy: 0.4861\n",
            "Epoch 24/100\n",
            "64/64 [==============================] - 8s 130ms/step - loss: 1.6451 - accuracy: 0.4059 - val_loss: 1.5539 - val_accuracy: 0.4194\n",
            "Epoch 25/100\n",
            "64/64 [==============================] - 8s 129ms/step - loss: 1.6171 - accuracy: 0.3946 - val_loss: 1.5256 - val_accuracy: 0.4583\n",
            "Epoch 26/100\n",
            "64/64 [==============================] - 8s 129ms/step - loss: 1.5919 - accuracy: 0.4206 - val_loss: 1.5058 - val_accuracy: 0.4583\n",
            "Epoch 27/100\n",
            "64/64 [==============================] - 8s 128ms/step - loss: 1.5948 - accuracy: 0.3980 - val_loss: 1.4874 - val_accuracy: 0.4944\n",
            "Epoch 28/100\n",
            "64/64 [==============================] - 8s 129ms/step - loss: 1.5755 - accuracy: 0.4137 - val_loss: 1.5038 - val_accuracy: 0.4500\n",
            "Epoch 29/100\n",
            "64/64 [==============================] - 8s 129ms/step - loss: 1.5566 - accuracy: 0.4221 - val_loss: 1.4789 - val_accuracy: 0.4889\n",
            "Epoch 30/100\n",
            "64/64 [==============================] - 8s 128ms/step - loss: 1.5452 - accuracy: 0.4451 - val_loss: 1.4611 - val_accuracy: 0.4944\n",
            "Epoch 31/100\n",
            "64/64 [==============================] - 8s 128ms/step - loss: 1.5358 - accuracy: 0.4377 - val_loss: 1.4462 - val_accuracy: 0.5278\n",
            "Epoch 32/100\n",
            "64/64 [==============================] - 8s 128ms/step - loss: 1.4942 - accuracy: 0.4500 - val_loss: 1.4332 - val_accuracy: 0.5083\n",
            "Epoch 33/100\n",
            "64/64 [==============================] - 8s 129ms/step - loss: 1.4682 - accuracy: 0.4828 - val_loss: 1.4410 - val_accuracy: 0.4972\n",
            "Epoch 34/100\n",
            "64/64 [==============================] - 8s 129ms/step - loss: 1.4784 - accuracy: 0.4652 - val_loss: 1.4230 - val_accuracy: 0.4917\n",
            "Epoch 35/100\n",
            "64/64 [==============================] - 8s 127ms/step - loss: 1.4565 - accuracy: 0.4740 - val_loss: 1.4156 - val_accuracy: 0.5000\n",
            "Epoch 36/100\n",
            "64/64 [==============================] - 8s 132ms/step - loss: 1.4619 - accuracy: 0.4691 - val_loss: 1.3997 - val_accuracy: 0.5278\n",
            "Epoch 37/100\n",
            "64/64 [==============================] - 8s 129ms/step - loss: 1.4436 - accuracy: 0.4750 - val_loss: 1.3846 - val_accuracy: 0.5111\n",
            "Epoch 38/100\n",
            "64/64 [==============================] - 8s 128ms/step - loss: 1.4135 - accuracy: 0.4740 - val_loss: 1.3809 - val_accuracy: 0.5194\n",
            "Epoch 39/100\n",
            "64/64 [==============================] - 8s 127ms/step - loss: 1.4185 - accuracy: 0.4804 - val_loss: 1.3649 - val_accuracy: 0.5194\n",
            "Epoch 40/100\n",
            "64/64 [==============================] - 8s 128ms/step - loss: 1.3964 - accuracy: 0.4868 - val_loss: 1.3852 - val_accuracy: 0.4917\n",
            "Epoch 41/100\n",
            "64/64 [==============================] - 8s 128ms/step - loss: 1.3765 - accuracy: 0.5049 - val_loss: 1.3663 - val_accuracy: 0.5306\n",
            "Epoch 42/100\n",
            "64/64 [==============================] - 8s 129ms/step - loss: 1.3911 - accuracy: 0.5000 - val_loss: 1.3532 - val_accuracy: 0.5194\n",
            "Epoch 43/100\n",
            "64/64 [==============================] - 8s 127ms/step - loss: 1.3630 - accuracy: 0.5093 - val_loss: 1.3615 - val_accuracy: 0.5083\n",
            "Epoch 44/100\n",
            "64/64 [==============================] - 8s 128ms/step - loss: 1.3484 - accuracy: 0.5172 - val_loss: 1.3511 - val_accuracy: 0.5167\n",
            "Epoch 45/100\n",
            "64/64 [==============================] - 8s 129ms/step - loss: 1.3532 - accuracy: 0.5088 - val_loss: 1.3373 - val_accuracy: 0.5222\n",
            "Epoch 46/100\n",
            "64/64 [==============================] - 8s 129ms/step - loss: 1.3355 - accuracy: 0.5191 - val_loss: 1.3318 - val_accuracy: 0.5306\n",
            "Epoch 47/100\n",
            "64/64 [==============================] - 8s 128ms/step - loss: 1.3252 - accuracy: 0.5132 - val_loss: 1.3180 - val_accuracy: 0.5306\n",
            "Epoch 48/100\n",
            "64/64 [==============================] - 8s 128ms/step - loss: 1.3172 - accuracy: 0.5289 - val_loss: 1.3008 - val_accuracy: 0.5333\n",
            "Epoch 49/100\n",
            "64/64 [==============================] - 8s 129ms/step - loss: 1.3177 - accuracy: 0.5211 - val_loss: 1.3123 - val_accuracy: 0.5361\n",
            "Epoch 50/100\n",
            "64/64 [==============================] - 8s 128ms/step - loss: 1.2961 - accuracy: 0.5363 - val_loss: 1.2955 - val_accuracy: 0.5417\n",
            "Epoch 51/100\n",
            "64/64 [==============================] - 8s 129ms/step - loss: 1.2874 - accuracy: 0.5211 - val_loss: 1.2855 - val_accuracy: 0.5417\n",
            "Epoch 52/100\n",
            "64/64 [==============================] - 8s 129ms/step - loss: 1.2708 - accuracy: 0.5412 - val_loss: 1.2863 - val_accuracy: 0.5417\n",
            "Epoch 53/100\n",
            "64/64 [==============================] - 8s 128ms/step - loss: 1.2656 - accuracy: 0.5466 - val_loss: 1.2741 - val_accuracy: 0.5472\n",
            "Epoch 54/100\n",
            "64/64 [==============================] - 8s 129ms/step - loss: 1.2496 - accuracy: 0.5446 - val_loss: 1.2878 - val_accuracy: 0.5444\n",
            "Epoch 55/100\n",
            "64/64 [==============================] - 8s 129ms/step - loss: 1.2682 - accuracy: 0.5456 - val_loss: 1.2911 - val_accuracy: 0.5278\n",
            "Epoch 56/100\n",
            "64/64 [==============================] - 8s 128ms/step - loss: 1.2366 - accuracy: 0.5554 - val_loss: 1.2661 - val_accuracy: 0.5472\n",
            "Epoch 57/100\n",
            "64/64 [==============================] - 8s 129ms/step - loss: 1.2313 - accuracy: 0.5529 - val_loss: 1.2593 - val_accuracy: 0.5639\n",
            "Epoch 58/100\n",
            "64/64 [==============================] - 8s 129ms/step - loss: 1.2146 - accuracy: 0.5711 - val_loss: 1.2725 - val_accuracy: 0.5528\n",
            "Epoch 59/100\n",
            "64/64 [==============================] - 8s 129ms/step - loss: 1.2171 - accuracy: 0.5613 - val_loss: 1.2453 - val_accuracy: 0.5611\n",
            "Epoch 60/100\n",
            "64/64 [==============================] - 8s 128ms/step - loss: 1.1944 - accuracy: 0.5828 - val_loss: 1.2408 - val_accuracy: 0.5389\n",
            "Epoch 61/100\n",
            "64/64 [==============================] - 8s 128ms/step - loss: 1.1896 - accuracy: 0.5667 - val_loss: 1.2403 - val_accuracy: 0.5694\n",
            "Epoch 62/100\n",
            "64/64 [==============================] - 8s 128ms/step - loss: 1.1768 - accuracy: 0.5637 - val_loss: 1.2444 - val_accuracy: 0.5583\n",
            "Epoch 63/100\n",
            "64/64 [==============================] - 8s 128ms/step - loss: 1.1818 - accuracy: 0.5755 - val_loss: 1.2253 - val_accuracy: 0.5639\n",
            "Epoch 64/100\n",
            "64/64 [==============================] - 8s 128ms/step - loss: 1.1696 - accuracy: 0.5868 - val_loss: 1.2195 - val_accuracy: 0.5667\n",
            "Epoch 65/100\n",
            "64/64 [==============================] - 8s 129ms/step - loss: 1.1481 - accuracy: 0.5833 - val_loss: 1.2268 - val_accuracy: 0.5722\n",
            "Epoch 66/100\n",
            "64/64 [==============================] - 8s 128ms/step - loss: 1.1383 - accuracy: 0.5975 - val_loss: 1.2150 - val_accuracy: 0.5833\n",
            "Epoch 67/100\n",
            "64/64 [==============================] - 8s 129ms/step - loss: 1.1219 - accuracy: 0.6078 - val_loss: 1.2169 - val_accuracy: 0.5583\n",
            "Epoch 68/100\n",
            "64/64 [==============================] - 9s 133ms/step - loss: 1.1402 - accuracy: 0.5922 - val_loss: 1.2008 - val_accuracy: 0.5639\n",
            "Epoch 69/100\n",
            "64/64 [==============================] - 8s 130ms/step - loss: 1.1248 - accuracy: 0.5971 - val_loss: 1.2126 - val_accuracy: 0.5667\n",
            "Epoch 70/100\n",
            "64/64 [==============================] - 8s 128ms/step - loss: 1.1173 - accuracy: 0.5926 - val_loss: 1.2069 - val_accuracy: 0.5667\n",
            "Epoch 71/100\n",
            "64/64 [==============================] - 8s 129ms/step - loss: 1.0997 - accuracy: 0.6103 - val_loss: 1.1937 - val_accuracy: 0.5778\n",
            "Epoch 72/100\n",
            "64/64 [==============================] - 8s 129ms/step - loss: 1.1116 - accuracy: 0.5971 - val_loss: 1.1970 - val_accuracy: 0.5667\n",
            "Epoch 73/100\n",
            "64/64 [==============================] - 8s 128ms/step - loss: 1.0818 - accuracy: 0.6005 - val_loss: 1.1852 - val_accuracy: 0.5722\n",
            "Epoch 74/100\n",
            "64/64 [==============================] - 8s 128ms/step - loss: 1.0911 - accuracy: 0.6142 - val_loss: 1.1868 - val_accuracy: 0.5806\n",
            "Epoch 75/100\n",
            "64/64 [==============================] - 8s 129ms/step - loss: 1.0574 - accuracy: 0.6260 - val_loss: 1.1773 - val_accuracy: 0.5917\n",
            "Epoch 76/100\n",
            "64/64 [==============================] - 8s 129ms/step - loss: 1.0805 - accuracy: 0.6108 - val_loss: 1.1842 - val_accuracy: 0.5833\n",
            "Epoch 77/100\n",
            "64/64 [==============================] - 8s 128ms/step - loss: 1.0673 - accuracy: 0.6137 - val_loss: 1.1882 - val_accuracy: 0.5861\n",
            "Epoch 78/100\n",
            "64/64 [==============================] - 8s 128ms/step - loss: 1.0765 - accuracy: 0.6098 - val_loss: 1.1988 - val_accuracy: 0.5639\n",
            "Epoch 79/100\n",
            "64/64 [==============================] - 8s 129ms/step - loss: 1.0614 - accuracy: 0.6196 - val_loss: 1.2312 - val_accuracy: 0.5500\n",
            "Epoch 80/100\n",
            "64/64 [==============================] - 8s 128ms/step - loss: 1.0355 - accuracy: 0.6294 - val_loss: 1.1813 - val_accuracy: 0.5833\n",
            "Epoch 81/100\n",
            "64/64 [==============================] - 8s 128ms/step - loss: 1.0511 - accuracy: 0.6275 - val_loss: 1.1917 - val_accuracy: 0.5667\n",
            "Epoch 82/100\n",
            "64/64 [==============================] - 8s 130ms/step - loss: 1.0204 - accuracy: 0.6426 - val_loss: 1.1575 - val_accuracy: 0.5917\n",
            "Epoch 83/100\n",
            "64/64 [==============================] - 8s 129ms/step - loss: 0.9948 - accuracy: 0.6593 - val_loss: 1.1756 - val_accuracy: 0.5861\n",
            "Epoch 84/100\n",
            "64/64 [==============================] - 8s 130ms/step - loss: 1.0233 - accuracy: 0.6348 - val_loss: 1.1583 - val_accuracy: 0.5917\n",
            "Epoch 85/100\n",
            "64/64 [==============================] - 8s 128ms/step - loss: 1.0012 - accuracy: 0.6466 - val_loss: 1.1474 - val_accuracy: 0.5944\n",
            "Epoch 86/100\n",
            "64/64 [==============================] - 8s 128ms/step - loss: 1.0083 - accuracy: 0.6397 - val_loss: 1.1534 - val_accuracy: 0.5917\n",
            "Epoch 87/100\n",
            "64/64 [==============================] - 8s 129ms/step - loss: 0.9940 - accuracy: 0.6554 - val_loss: 1.1349 - val_accuracy: 0.5889\n",
            "Epoch 88/100\n",
            "64/64 [==============================] - 8s 128ms/step - loss: 0.9873 - accuracy: 0.6564 - val_loss: 1.1455 - val_accuracy: 0.5972\n",
            "Epoch 89/100\n",
            "64/64 [==============================] - 8s 129ms/step - loss: 0.9849 - accuracy: 0.6475 - val_loss: 1.1536 - val_accuracy: 0.5806\n",
            "Epoch 90/100\n",
            "64/64 [==============================] - 8s 128ms/step - loss: 0.9974 - accuracy: 0.6461 - val_loss: 1.1536 - val_accuracy: 0.5889\n",
            "Epoch 91/100\n",
            "64/64 [==============================] - 8s 129ms/step - loss: 0.9672 - accuracy: 0.6681 - val_loss: 1.1379 - val_accuracy: 0.6028\n",
            "Epoch 92/100\n",
            "64/64 [==============================] - 8s 130ms/step - loss: 0.9577 - accuracy: 0.6657 - val_loss: 1.1487 - val_accuracy: 0.5722\n",
            "Epoch 93/100\n",
            "64/64 [==============================] - 8s 128ms/step - loss: 0.9775 - accuracy: 0.6485 - val_loss: 1.1525 - val_accuracy: 0.5861\n",
            "Epoch 94/100\n",
            "64/64 [==============================] - 8s 129ms/step - loss: 0.9576 - accuracy: 0.6618 - val_loss: 1.1355 - val_accuracy: 0.5917\n",
            "Epoch 95/100\n",
            "64/64 [==============================] - 8s 128ms/step - loss: 0.9693 - accuracy: 0.6525 - val_loss: 1.1302 - val_accuracy: 0.6028\n",
            "Epoch 96/100\n",
            "64/64 [==============================] - 8s 129ms/step - loss: 0.9312 - accuracy: 0.6691 - val_loss: 1.1267 - val_accuracy: 0.6083\n",
            "Epoch 97/100\n",
            "64/64 [==============================] - 8s 130ms/step - loss: 0.9342 - accuracy: 0.6716 - val_loss: 1.1260 - val_accuracy: 0.5917\n",
            "Epoch 98/100\n",
            "64/64 [==============================] - 8s 131ms/step - loss: 0.9207 - accuracy: 0.6745 - val_loss: 1.1110 - val_accuracy: 0.5917\n",
            "Epoch 99/100\n",
            "64/64 [==============================] - 8s 129ms/step - loss: 0.9494 - accuracy: 0.6598 - val_loss: 1.1522 - val_accuracy: 0.5972\n",
            "Epoch 100/100\n",
            "64/64 [==============================] - 8s 129ms/step - loss: 0.9197 - accuracy: 0.6750 - val_loss: 1.1017 - val_accuracy: 0.6167\n"
          ],
          "name": "stdout"
        },
        {
          "output_type": "execute_result",
          "data": {
            "text/plain": [
              "<tensorflow.python.keras.callbacks.History at 0x7f223735dc10>"
            ]
          },
          "metadata": {
            "tags": []
          },
          "execution_count": 99
        }
      ]
    },
    {
      "cell_type": "markdown",
      "metadata": {
        "id": "BYzmphHKD8wA"
      },
      "source": [
        "continue training for 100 epochs more"
      ]
    },
    {
      "cell_type": "code",
      "metadata": {
        "colab": {
          "base_uri": "https://localhost:8080/"
        },
        "id": "Hwd3zexwi34j",
        "outputId": "4a64751f-a5d7-4093-b18f-27e6f8d81ea5"
      },
      "source": [
        "model.fit(data,label2, validation_split=0.15,epochs=100)#, batch_size=200)"
      ],
      "execution_count": null,
      "outputs": [
        {
          "output_type": "stream",
          "text": [
            "Epoch 1/100\n",
            "64/64 [==============================] - 8s 130ms/step - loss: 0.9164 - accuracy: 0.6725 - val_loss: 1.1102 - val_accuracy: 0.6028\n",
            "Epoch 2/100\n",
            "64/64 [==============================] - 8s 129ms/step - loss: 0.9020 - accuracy: 0.6853 - val_loss: 1.0919 - val_accuracy: 0.6056\n",
            "Epoch 3/100\n",
            "64/64 [==============================] - 8s 127ms/step - loss: 0.8940 - accuracy: 0.6819 - val_loss: 1.1091 - val_accuracy: 0.6028\n",
            "Epoch 4/100\n",
            "64/64 [==============================] - 8s 128ms/step - loss: 0.8765 - accuracy: 0.6931 - val_loss: 1.1166 - val_accuracy: 0.6028\n",
            "Epoch 5/100\n",
            "64/64 [==============================] - 8s 127ms/step - loss: 0.8897 - accuracy: 0.6814 - val_loss: 1.1080 - val_accuracy: 0.6111\n",
            "Epoch 6/100\n",
            "64/64 [==============================] - 8s 128ms/step - loss: 0.8948 - accuracy: 0.6833 - val_loss: 1.0964 - val_accuracy: 0.5861\n",
            "Epoch 7/100\n",
            "64/64 [==============================] - 8s 128ms/step - loss: 0.8836 - accuracy: 0.6828 - val_loss: 1.0908 - val_accuracy: 0.5889\n",
            "Epoch 8/100\n",
            "64/64 [==============================] - 8s 127ms/step - loss: 0.8733 - accuracy: 0.7000 - val_loss: 1.1096 - val_accuracy: 0.6028\n",
            "Epoch 9/100\n",
            "64/64 [==============================] - 8s 129ms/step - loss: 0.8722 - accuracy: 0.6907 - val_loss: 1.0978 - val_accuracy: 0.6139\n",
            "Epoch 10/100\n",
            "64/64 [==============================] - 8s 128ms/step - loss: 0.8447 - accuracy: 0.7020 - val_loss: 1.1146 - val_accuracy: 0.5972\n",
            "Epoch 11/100\n",
            "64/64 [==============================] - 8s 128ms/step - loss: 0.8429 - accuracy: 0.7000 - val_loss: 1.0744 - val_accuracy: 0.6056\n",
            "Epoch 12/100\n",
            "64/64 [==============================] - 8s 127ms/step - loss: 0.8461 - accuracy: 0.6946 - val_loss: 1.1143 - val_accuracy: 0.6056\n",
            "Epoch 13/100\n",
            "64/64 [==============================] - 8s 127ms/step - loss: 0.8348 - accuracy: 0.7044 - val_loss: 1.0787 - val_accuracy: 0.6000\n",
            "Epoch 14/100\n",
            "64/64 [==============================] - 8s 127ms/step - loss: 0.8313 - accuracy: 0.7078 - val_loss: 1.1038 - val_accuracy: 0.6028\n",
            "Epoch 15/100\n",
            "64/64 [==============================] - 8s 128ms/step - loss: 0.8230 - accuracy: 0.7098 - val_loss: 1.0649 - val_accuracy: 0.6278\n",
            "Epoch 16/100\n",
            "64/64 [==============================] - 8s 128ms/step - loss: 0.8226 - accuracy: 0.7123 - val_loss: 1.1137 - val_accuracy: 0.6056\n",
            "Epoch 17/100\n",
            "64/64 [==============================] - 8s 128ms/step - loss: 0.8045 - accuracy: 0.7299 - val_loss: 1.0532 - val_accuracy: 0.6056\n",
            "Epoch 18/100\n",
            "64/64 [==============================] - 8s 130ms/step - loss: 0.7951 - accuracy: 0.7230 - val_loss: 1.0743 - val_accuracy: 0.6139\n",
            "Epoch 19/100\n",
            "64/64 [==============================] - 8s 129ms/step - loss: 0.8143 - accuracy: 0.7245 - val_loss: 1.0766 - val_accuracy: 0.6333\n",
            "Epoch 20/100\n",
            "64/64 [==============================] - 8s 129ms/step - loss: 0.8083 - accuracy: 0.7127 - val_loss: 1.0649 - val_accuracy: 0.6139\n",
            "Epoch 21/100\n",
            "64/64 [==============================] - 8s 128ms/step - loss: 0.7817 - accuracy: 0.7211 - val_loss: 1.0532 - val_accuracy: 0.6139\n",
            "Epoch 22/100\n",
            "64/64 [==============================] - 8s 129ms/step - loss: 0.7771 - accuracy: 0.7265 - val_loss: 1.0521 - val_accuracy: 0.6222\n",
            "Epoch 23/100\n",
            "64/64 [==============================] - 8s 128ms/step - loss: 0.7761 - accuracy: 0.7284 - val_loss: 1.0585 - val_accuracy: 0.6167\n",
            "Epoch 24/100\n",
            "64/64 [==============================] - 8s 129ms/step - loss: 0.7811 - accuracy: 0.7255 - val_loss: 1.0456 - val_accuracy: 0.6222\n",
            "Epoch 25/100\n",
            "64/64 [==============================] - 8s 129ms/step - loss: 0.7645 - accuracy: 0.7426 - val_loss: 1.0418 - val_accuracy: 0.6194\n",
            "Epoch 26/100\n",
            "64/64 [==============================] - 8s 129ms/step - loss: 0.7719 - accuracy: 0.7275 - val_loss: 1.0726 - val_accuracy: 0.6139\n",
            "Epoch 27/100\n",
            "64/64 [==============================] - 8s 128ms/step - loss: 0.7454 - accuracy: 0.7407 - val_loss: 1.0424 - val_accuracy: 0.6167\n",
            "Epoch 28/100\n",
            "64/64 [==============================] - 8s 127ms/step - loss: 0.7694 - accuracy: 0.7260 - val_loss: 1.0691 - val_accuracy: 0.5972\n",
            "Epoch 29/100\n",
            "64/64 [==============================] - 8s 128ms/step - loss: 0.7587 - accuracy: 0.7265 - val_loss: 1.0255 - val_accuracy: 0.6250\n",
            "Epoch 30/100\n",
            "64/64 [==============================] - 8s 128ms/step - loss: 0.7413 - accuracy: 0.7441 - val_loss: 1.0445 - val_accuracy: 0.6278\n",
            "Epoch 31/100\n",
            "64/64 [==============================] - 8s 128ms/step - loss: 0.7449 - accuracy: 0.7397 - val_loss: 1.0436 - val_accuracy: 0.6167\n",
            "Epoch 32/100\n",
            "64/64 [==============================] - 8s 128ms/step - loss: 0.7273 - accuracy: 0.7451 - val_loss: 1.0556 - val_accuracy: 0.6139\n",
            "Epoch 33/100\n",
            "64/64 [==============================] - 8s 129ms/step - loss: 0.7321 - accuracy: 0.7426 - val_loss: 1.0514 - val_accuracy: 0.6194\n",
            "Epoch 34/100\n",
            "64/64 [==============================] - 8s 128ms/step - loss: 0.7273 - accuracy: 0.7505 - val_loss: 1.0415 - val_accuracy: 0.6222\n",
            "Epoch 35/100\n",
            "64/64 [==============================] - 8s 129ms/step - loss: 0.7181 - accuracy: 0.7515 - val_loss: 1.0224 - val_accuracy: 0.6361\n",
            "Epoch 36/100\n",
            "64/64 [==============================] - 8s 127ms/step - loss: 0.7170 - accuracy: 0.7549 - val_loss: 1.0313 - val_accuracy: 0.6250\n",
            "Epoch 37/100\n",
            "64/64 [==============================] - 8s 128ms/step - loss: 0.7092 - accuracy: 0.7559 - val_loss: 1.0333 - val_accuracy: 0.6306\n",
            "Epoch 38/100\n",
            "64/64 [==============================] - 8s 129ms/step - loss: 0.7233 - accuracy: 0.7471 - val_loss: 1.0383 - val_accuracy: 0.6194\n",
            "Epoch 39/100\n",
            "64/64 [==============================] - 8s 128ms/step - loss: 0.6915 - accuracy: 0.7681 - val_loss: 0.9995 - val_accuracy: 0.6278\n",
            "Epoch 40/100\n",
            "64/64 [==============================] - 8s 128ms/step - loss: 0.6954 - accuracy: 0.7515 - val_loss: 1.0377 - val_accuracy: 0.5972\n",
            "Epoch 41/100\n",
            "64/64 [==============================] - 8s 127ms/step - loss: 0.6905 - accuracy: 0.7510 - val_loss: 1.0222 - val_accuracy: 0.6111\n",
            "Epoch 42/100\n",
            "64/64 [==============================] - 8s 127ms/step - loss: 0.6669 - accuracy: 0.7760 - val_loss: 1.0271 - val_accuracy: 0.6111\n",
            "Epoch 43/100\n",
            "64/64 [==============================] - 8s 128ms/step - loss: 0.6927 - accuracy: 0.7569 - val_loss: 1.0122 - val_accuracy: 0.6361\n",
            "Epoch 44/100\n",
            "64/64 [==============================] - 8s 128ms/step - loss: 0.6733 - accuracy: 0.7725 - val_loss: 1.0191 - val_accuracy: 0.6389\n",
            "Epoch 45/100\n",
            "64/64 [==============================] - 8s 128ms/step - loss: 0.6335 - accuracy: 0.7848 - val_loss: 0.9970 - val_accuracy: 0.6389\n",
            "Epoch 46/100\n",
            "64/64 [==============================] - 8s 130ms/step - loss: 0.6571 - accuracy: 0.7819 - val_loss: 1.0201 - val_accuracy: 0.6444\n",
            "Epoch 47/100\n",
            "64/64 [==============================] - 8s 128ms/step - loss: 0.6447 - accuracy: 0.7873 - val_loss: 1.0171 - val_accuracy: 0.6500\n",
            "Epoch 48/100\n",
            "64/64 [==============================] - 8s 129ms/step - loss: 0.6496 - accuracy: 0.7765 - val_loss: 1.0096 - val_accuracy: 0.6333\n",
            "Epoch 49/100\n",
            "64/64 [==============================] - 8s 128ms/step - loss: 0.6648 - accuracy: 0.7725 - val_loss: 1.0432 - val_accuracy: 0.6333\n",
            "Epoch 50/100\n",
            "64/64 [==============================] - 8s 128ms/step - loss: 0.6279 - accuracy: 0.7936 - val_loss: 1.0060 - val_accuracy: 0.6167\n",
            "Epoch 51/100\n",
            "64/64 [==============================] - 8s 128ms/step - loss: 0.6347 - accuracy: 0.7868 - val_loss: 1.0394 - val_accuracy: 0.6361\n",
            "Epoch 52/100\n",
            "64/64 [==============================] - 8s 128ms/step - loss: 0.6301 - accuracy: 0.7730 - val_loss: 1.0295 - val_accuracy: 0.6389\n",
            "Epoch 53/100\n",
            "64/64 [==============================] - 8s 128ms/step - loss: 0.6298 - accuracy: 0.7858 - val_loss: 1.0082 - val_accuracy: 0.6417\n",
            "Epoch 54/100\n",
            "64/64 [==============================] - 8s 128ms/step - loss: 0.6054 - accuracy: 0.7985 - val_loss: 0.9991 - val_accuracy: 0.6250\n",
            "Epoch 55/100\n",
            "64/64 [==============================] - 8s 129ms/step - loss: 0.6017 - accuracy: 0.8020 - val_loss: 1.0211 - val_accuracy: 0.6278\n",
            "Epoch 56/100\n",
            "64/64 [==============================] - 8s 130ms/step - loss: 0.6011 - accuracy: 0.8029 - val_loss: 1.0212 - val_accuracy: 0.6417\n",
            "Epoch 57/100\n",
            "64/64 [==============================] - 8s 130ms/step - loss: 0.5989 - accuracy: 0.7971 - val_loss: 0.9902 - val_accuracy: 0.6528\n",
            "Epoch 58/100\n",
            "64/64 [==============================] - 8s 130ms/step - loss: 0.5868 - accuracy: 0.8010 - val_loss: 0.9939 - val_accuracy: 0.6278\n",
            "Epoch 59/100\n",
            "64/64 [==============================] - 8s 129ms/step - loss: 0.6057 - accuracy: 0.7848 - val_loss: 0.9714 - val_accuracy: 0.6583\n",
            "Epoch 60/100\n",
            "64/64 [==============================] - 8s 129ms/step - loss: 0.5995 - accuracy: 0.7985 - val_loss: 0.9868 - val_accuracy: 0.6278\n",
            "Epoch 61/100\n",
            "64/64 [==============================] - 8s 130ms/step - loss: 0.5771 - accuracy: 0.7961 - val_loss: 0.9898 - val_accuracy: 0.6361\n",
            "Epoch 62/100\n",
            "64/64 [==============================] - 8s 128ms/step - loss: 0.5875 - accuracy: 0.7961 - val_loss: 0.9824 - val_accuracy: 0.6472\n",
            "Epoch 63/100\n",
            "64/64 [==============================] - 8s 130ms/step - loss: 0.5904 - accuracy: 0.7985 - val_loss: 0.9428 - val_accuracy: 0.6472\n",
            "Epoch 64/100\n",
            "64/64 [==============================] - 8s 128ms/step - loss: 0.5780 - accuracy: 0.8098 - val_loss: 0.9788 - val_accuracy: 0.6333\n",
            "Epoch 65/100\n",
            "64/64 [==============================] - 8s 130ms/step - loss: 0.5656 - accuracy: 0.8093 - val_loss: 0.9849 - val_accuracy: 0.6361\n",
            "Epoch 66/100\n",
            "64/64 [==============================] - 8s 130ms/step - loss: 0.5590 - accuracy: 0.8216 - val_loss: 0.9950 - val_accuracy: 0.6361\n",
            "Epoch 67/100\n",
            "64/64 [==============================] - 8s 129ms/step - loss: 0.5701 - accuracy: 0.8005 - val_loss: 0.9981 - val_accuracy: 0.6111\n",
            "Epoch 68/100\n",
            "64/64 [==============================] - 8s 129ms/step - loss: 0.5523 - accuracy: 0.8167 - val_loss: 0.9849 - val_accuracy: 0.6528\n",
            "Epoch 69/100\n",
            "64/64 [==============================] - 8s 129ms/step - loss: 0.5251 - accuracy: 0.8284 - val_loss: 0.9772 - val_accuracy: 0.6472\n",
            "Epoch 70/100\n",
            "64/64 [==============================] - 8s 128ms/step - loss: 0.5485 - accuracy: 0.8162 - val_loss: 0.9800 - val_accuracy: 0.6389\n",
            "Epoch 71/100\n",
            "64/64 [==============================] - 8s 129ms/step - loss: 0.5307 - accuracy: 0.8299 - val_loss: 0.9934 - val_accuracy: 0.6389\n",
            "Epoch 72/100\n",
            "64/64 [==============================] - 8s 128ms/step - loss: 0.5198 - accuracy: 0.8328 - val_loss: 0.9917 - val_accuracy: 0.6444\n",
            "Epoch 73/100\n",
            "64/64 [==============================] - 8s 127ms/step - loss: 0.5130 - accuracy: 0.8368 - val_loss: 0.9538 - val_accuracy: 0.6472\n",
            "Epoch 74/100\n",
            "64/64 [==============================] - 8s 128ms/step - loss: 0.5223 - accuracy: 0.8382 - val_loss: 0.9701 - val_accuracy: 0.6444\n",
            "Epoch 75/100\n",
            "64/64 [==============================] - 8s 128ms/step - loss: 0.5338 - accuracy: 0.8270 - val_loss: 0.9772 - val_accuracy: 0.6611\n",
            "Epoch 76/100\n",
            "64/64 [==============================] - 8s 129ms/step - loss: 0.5344 - accuracy: 0.8098 - val_loss: 0.9394 - val_accuracy: 0.6667\n",
            "Epoch 77/100\n",
            "64/64 [==============================] - 8s 128ms/step - loss: 0.5128 - accuracy: 0.8304 - val_loss: 0.9625 - val_accuracy: 0.6500\n",
            "Epoch 78/100\n",
            "64/64 [==============================] - 8s 128ms/step - loss: 0.5013 - accuracy: 0.8314 - val_loss: 0.9602 - val_accuracy: 0.6417\n",
            "Epoch 79/100\n",
            "64/64 [==============================] - 8s 128ms/step - loss: 0.5137 - accuracy: 0.8358 - val_loss: 0.9795 - val_accuracy: 0.6472\n",
            "Epoch 80/100\n",
            "64/64 [==============================] - 8s 129ms/step - loss: 0.4932 - accuracy: 0.8348 - val_loss: 0.9507 - val_accuracy: 0.6500\n",
            "Epoch 81/100\n",
            "64/64 [==============================] - 8s 129ms/step - loss: 0.5042 - accuracy: 0.8279 - val_loss: 0.9497 - val_accuracy: 0.6444\n",
            "Epoch 82/100\n",
            "64/64 [==============================] - 8s 128ms/step - loss: 0.4966 - accuracy: 0.8348 - val_loss: 0.9544 - val_accuracy: 0.6444\n",
            "Epoch 83/100\n",
            "64/64 [==============================] - 8s 129ms/step - loss: 0.4875 - accuracy: 0.8475 - val_loss: 0.9578 - val_accuracy: 0.6583\n",
            "Epoch 84/100\n",
            "64/64 [==============================] - 8s 128ms/step - loss: 0.5046 - accuracy: 0.8319 - val_loss: 0.9399 - val_accuracy: 0.6583\n",
            "Epoch 85/100\n",
            "64/64 [==============================] - 8s 129ms/step - loss: 0.4849 - accuracy: 0.8436 - val_loss: 0.9545 - val_accuracy: 0.6528\n",
            "Epoch 86/100\n",
            "64/64 [==============================] - 8s 130ms/step - loss: 0.4605 - accuracy: 0.8505 - val_loss: 0.9480 - val_accuracy: 0.6722\n",
            "Epoch 87/100\n",
            "64/64 [==============================] - 8s 128ms/step - loss: 0.4805 - accuracy: 0.8475 - val_loss: 0.9398 - val_accuracy: 0.6778\n",
            "Epoch 88/100\n",
            "64/64 [==============================] - 8s 129ms/step - loss: 0.4643 - accuracy: 0.8559 - val_loss: 0.9345 - val_accuracy: 0.6611\n",
            "Epoch 89/100\n",
            "64/64 [==============================] - 8s 129ms/step - loss: 0.4614 - accuracy: 0.8431 - val_loss: 0.9485 - val_accuracy: 0.6528\n",
            "Epoch 90/100\n",
            "64/64 [==============================] - 8s 128ms/step - loss: 0.4479 - accuracy: 0.8598 - val_loss: 0.9484 - val_accuracy: 0.6472\n",
            "Epoch 91/100\n",
            "64/64 [==============================] - 8s 128ms/step - loss: 0.4634 - accuracy: 0.8426 - val_loss: 0.9511 - val_accuracy: 0.6667\n",
            "Epoch 92/100\n",
            "64/64 [==============================] - 8s 129ms/step - loss: 0.4528 - accuracy: 0.8480 - val_loss: 0.9235 - val_accuracy: 0.6583\n",
            "Epoch 93/100\n",
            "64/64 [==============================] - 8s 128ms/step - loss: 0.4390 - accuracy: 0.8642 - val_loss: 0.9496 - val_accuracy: 0.6528\n",
            "Epoch 94/100\n",
            "64/64 [==============================] - 8s 129ms/step - loss: 0.4520 - accuracy: 0.8588 - val_loss: 0.9532 - val_accuracy: 0.6500\n",
            "Epoch 95/100\n",
            "64/64 [==============================] - 8s 130ms/step - loss: 0.4355 - accuracy: 0.8588 - val_loss: 0.9368 - val_accuracy: 0.6528\n",
            "Epoch 96/100\n",
            "64/64 [==============================] - 8s 130ms/step - loss: 0.4422 - accuracy: 0.8623 - val_loss: 0.9680 - val_accuracy: 0.6583\n",
            "Epoch 97/100\n",
            "64/64 [==============================] - 8s 128ms/step - loss: 0.4248 - accuracy: 0.8637 - val_loss: 0.9573 - val_accuracy: 0.6583\n",
            "Epoch 98/100\n",
            "64/64 [==============================] - 8s 128ms/step - loss: 0.4369 - accuracy: 0.8574 - val_loss: 0.9295 - val_accuracy: 0.6639\n",
            "Epoch 99/100\n",
            "64/64 [==============================] - 8s 128ms/step - loss: 0.4387 - accuracy: 0.8490 - val_loss: 0.9218 - val_accuracy: 0.6583\n",
            "Epoch 100/100\n",
            "64/64 [==============================] - 8s 129ms/step - loss: 0.4165 - accuracy: 0.8623 - val_loss: 0.9350 - val_accuracy: 0.6694\n"
          ],
          "name": "stdout"
        },
        {
          "output_type": "execute_result",
          "data": {
            "text/plain": [
              "<tensorflow.python.keras.callbacks.History at 0x7f223788eb10>"
            ]
          },
          "metadata": {
            "tags": []
          },
          "execution_count": 101
        }
      ]
    },
    {
      "cell_type": "code",
      "metadata": {
        "colab": {
          "base_uri": "https://localhost:8080/"
        },
        "id": "E7vG-5TMfovi",
        "outputId": "d01e72ae-fe26-4f6b-eb6c-e353a82fc003"
      },
      "source": [
        "!wget https://gist.githubusercontent.com/albertomontesg/d8b21a179c1e6cca0480ebdf292c34d2/raw/1e2620258ce619e18d3219cf962a3f0a0ed17093/sports_1M.json"
      ],
      "execution_count": null,
      "outputs": [
        {
          "output_type": "stream",
          "text": [
            "--2021-08-15 06:41:16--  https://gist.githubusercontent.com/albertomontesg/d8b21a179c1e6cca0480ebdf292c34d2/raw/1e2620258ce619e18d3219cf962a3f0a0ed17093/sports_1M.json\n",
            "Resolving gist.githubusercontent.com (gist.githubusercontent.com)... 185.199.110.133, 185.199.111.133, 185.199.109.133, ...\n",
            "Connecting to gist.githubusercontent.com (gist.githubusercontent.com)|185.199.110.133|:443... connected.\n",
            "HTTP request sent, awaiting response... 200 OK\n",
            "Length: 10040 (9.8K) [text/plain]\n",
            "Saving to: ‘sports_1M.json’\n",
            "\n",
            "sports_1M.json      100%[===================>]   9.80K  --.-KB/s    in 0s      \n",
            "\n",
            "2021-08-15 06:41:16 (50.7 MB/s) - ‘sports_1M.json’ saved [10040/10040]\n",
            "\n"
          ],
          "name": "stdout"
        }
      ]
    },
    {
      "cell_type": "markdown",
      "metadata": {
        "id": "an9YPnXMDyxU"
      },
      "source": [
        "This is future work to extract 3D features and merge MFCC audio features with this."
      ]
    },
    {
      "cell_type": "code",
      "metadata": {
        "id": "LBW71g2YoFUR"
      },
      "source": [
        "from keras.models import Sequential\n",
        "from keras.layers.core import Dense, Dropout, Flatten\n",
        "from keras.layers.convolutional import Convolution3D, MaxPooling3D, ZeroPadding3D\n",
        "from keras.optimizers import SGD\n",
        "\n",
        "def get_model(summary=False):\n",
        "    \"\"\" Return the Keras model of the network\n",
        "    \"\"\"\n",
        "    model = Sequential()\n",
        "    # 1st layer group\n",
        "    model.add(Convolution3D(64, 3, 3, 3, activation='relu', \n",
        "                            padding='same', name='conv1',\n",
        "                            subsample=(1, 1, 1)))\n",
        "                            #input_shape=(3, 16, 112, 112)\n",
        "    model.add(MaxPooling3D(pool_size=(1, 2, 2), strides=(1, 2, 2), \n",
        "                           padding='valid', name='pool1'))\n",
        "    # 2nd layer group\n",
        "    model.add(Convolution3D(128, 3, 3, 3, activation='relu', \n",
        "                            padding='same', name='conv2',\n",
        "                            subsample=(1, 1, 1)))\n",
        "    model.add(MaxPooling3D(pool_size=(2, 2, 2), strides=(2, 2, 2), \n",
        "                           padding='valid', name='pool2'))\n",
        "    # 3rd layer group\n",
        "    model.add(Convolution3D(256, 3, 3, 3, activation='relu', \n",
        "                            padding='same', name='conv3a',\n",
        "                            subsample=(1, 1, 1)))\n",
        "    model.add(Convolution3D(256, 3, 3, 3, activation='relu', \n",
        "                            padding='same', name='conv3b',\n",
        "                            subsample=(1, 1, 1)))\n",
        "    model.add(MaxPooling3D(pool_size=(2, 2, 2), strides=(2, 2, 2), \n",
        "                           padding='valid', name='pool3'))\n",
        "    # 4th layer group\n",
        "    model.add(Convolution3D(512, 3, 3, 3, activation='relu', \n",
        "                            padding='same', name='conv4a',\n",
        "                            subsample=(1, 1, 1)))\n",
        "    model.add(Convolution3D(512, 3, 3, 3, activation='relu', \n",
        "                            padding='same', name='conv4b',\n",
        "                            subsample=(1, 1, 1)))\n",
        "    model.add(MaxPooling3D(pool_size=(2, 2, 2), strides=(2, 2, 2), \n",
        "                           padding='valid', name='pool4'))\n",
        "    # 5th layer group\n",
        "    model.add(Convolution3D(512, 3, 3, 3, activation='relu', \n",
        "                            padding='same', name='conv5a',\n",
        "                            subsample=(1, 1, 1)))\n",
        "    model.add(Convolution3D(512, 3, 3, 3, activation='relu', \n",
        "                            padding='same', name='conv5b',\n",
        "                            subsample=(1, 1, 1)))\n",
        "    model.add(ZeroPadding3D(padding=(0, 1, 1)))\n",
        "    model.add(MaxPooling3D(pool_size=(2, 2, 2), strides=(2, 2, 2), \n",
        "                           padding='valid', name='pool5'))\n",
        "    model.add(Flatten())\n",
        "    # FC layers group\n",
        "    model.add(Dense(4096, activation='relu', name='fc6'))\n",
        "    model.add(Dropout(.5))\n",
        "    model.add(Dense(4096, activation='relu', name='fc7'))\n",
        "    model.add(Dropout(.5))\n",
        "    model.add(Dense(487, activation='softmax', name='fc8'))\n",
        "    if summary:\n",
        "        print(model.summary())\n",
        "    return model\n",
        "\n",
        "model = get_model(summary=True)"
      ],
      "execution_count": null,
      "outputs": []
    },
    {
      "cell_type": "code",
      "metadata": {
        "id": "jYvZjXvtnPoq"
      },
      "source": [
        "from keras.models import model_from_json\n",
        "model = model_from_json(open('sports_1M.json', 'r').read())\n",
        "model.load_weights('./drive/My Drive/sports1M_weights.h5')\n",
        "model.compile(loss='mean_squared_error', optimizer='sgd')"
      ],
      "execution_count": null,
      "outputs": []
    }
  ]
}